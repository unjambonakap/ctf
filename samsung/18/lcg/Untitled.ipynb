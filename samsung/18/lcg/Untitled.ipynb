{
 "cells": [
  {
   "cell_type": "code",
   "execution_count": 9,
   "metadata": {
    "ExecuteTime": {
     "end_time": "2018-10-15T11:58:47.552894Z",
     "start_time": "2018-10-15T11:58:47.546895Z"
    }
   },
   "outputs": [],
   "source": [
    "lst = [831859191720139449, 9851589274461583502, 7428013382608299119, 6195444962520996076, 9270419801499270943, 8012680837977611190, 5829434570022631083, 860371710421504904, 7594472904013868669, 333314036240824486\n",
    "      ]\n",
    "n = len(lst)"
   ]
  },
  {
   "cell_type": "code",
   "execution_count": 21,
   "metadata": {
    "ExecuteTime": {
     "end_time": "2018-10-15T12:12:43.157325Z",
     "start_time": "2018-10-15T12:12:43.134739Z"
    }
   },
   "outputs": [
    {
     "name": "stdout",
     "output_type": "stream",
     "text": [
      "10\n",
      "(5407744839835496434, 6181369669767163407, 8744744311366254845)\n"
     ]
    }
   ],
   "source": [
    "print(n)\n",
    "m = matrix(ZZ , n-2, 3)\n",
    "for i in range(n-2):\n",
    "  m[i,0] = lst[i]\n",
    "  m[i,1] = lst[i+1]\n",
    "  m[i,2] = 1\n",
    "  \n",
    "b = vector(lst[2:])\n",
    "  \n",
    "H,U = m.hermite_form(transformation=True)\n",
    "r = U * b\n",
    "mod = gcd(r[3:])\n",
    "\n",
    "\n",
    "nm = matrix(Integers(mod), m)\n",
    "print(nm.solve_right(b))\n"
   ]
  }
 ],
 "metadata": {
  "kernelspec": {
   "display_name": "SageMath2 8.2",
   "language": "python",
   "name": "sagemath2"
  },
  "language_info": {
   "codemirror_mode": {
    "name": "ipython",
    "version": 2
   },
   "file_extension": ".py",
   "mimetype": "text/x-python",
   "name": "python",
   "nbconvert_exporter": "python",
   "pygments_lexer": "ipython2",
   "version": "2.7.15"
  }
 },
 "nbformat": 4,
 "nbformat_minor": 2
}
