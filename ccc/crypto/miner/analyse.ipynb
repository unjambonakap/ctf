{
 "cells": [
  {
   "cell_type": "code",
   "execution_count": 52,
   "metadata": {
    "ExecuteTime": {
     "end_time": "2018-08-15T20:42:50.324050Z",
     "start_time": "2018-08-15T20:42:50.307064Z"
    }
   },
   "outputs": [],
   "source": [
    "import json\n",
    "basemat = json.load(open('./mat.data', 'r'))"
   ]
  },
  {
   "cell_type": "code",
   "execution_count": 53,
   "metadata": {
    "ExecuteTime": {
     "end_time": "2018-08-15T20:42:55.352013Z",
     "start_time": "2018-08-15T20:42:51.076785Z"
    },
    "scrolled": true
   },
   "outputs": [
    {
     "name": "stdout",
     "output_type": "stream",
     "text": [
      "1\n",
      "[9, 183, 49, 290, 21, 84, 130, 270, 125, 78, 106, 203, 278, 174, 62, 118, 222, 185, 87, 271, 275, 139, 234, 105, 219, 231, 274, 171, 226, 250, 98, 14, 264, 15, 168, 241, 88, 23, 227, 72, 6, 164, 233, 228, 133, 272, 59, 157, 77, 128, 178, 75, 291, 5, 154, 18, 116, 180, 68, 188, 238, 82, 73, 25, 47, 265, 295, 136, 33, 206, 253, 111, 102, 261, 281, 247, 81, 192, 52, 240, 93, 173, 112, 90, 147, 140, 187, 137, 91, 196, 13, 58, 197, 99, 46, 252, 257, 149, 107, 245, 217, 12, 242, 30, 96, 202, 108, 94, 39, 150, 83, 28, 138, 129, 256, 267, 109, 224, 176, 235, 255, 95, 155, 40, 191, 8, 104, 153, 121, 145, 207, 45, 26, 114, 213, 211, 243, 27, 209, 143, 50, 97, 11, 277, 126, 89, 63, 19, 101, 282, 132, 55, 142, 175, 66, 184, 158, 123, 298, 42, 221, 117, 172, 56, 152, 110, 53, 182, 190, 181, 159, 225, 259, 4, 186, 268, 214, 44, 162, 218, 43, 61, 70, 146, 215, 115, 266, 65, 177, 251, 292, 229, 280, 10, 134, 1, 69, 127, 198, 100, 258, 166, 7, 67, 223, 286, 151, 54, 189, 156, 220, 86, 288, 24, 148, 244, 161, 17, 85, 204, 36, 160, 200, 163, 37, 22, 179, 210, 236, 34, 232, 31, 273, 57, 262, 263, 103, 0, 269, 2, 120, 144, 74, 230, 239, 276, 3, 294, 119, 216, 48, 124, 248, 60, 141, 113, 293, 51, 199, 193, 80, 284, 260, 131, 16, 32, 170, 285, 201, 287, 38, 20, 79, 249, 135, 237, 29, 296, 122, 246, 167, 76, 35, 208, 279, 212, 289, 254, 195, 283, 71, 64, 194, 297, 205, 165, 169, 41, 92]\n"
     ]
    }
   ],
   "source": [
    "n=256\n",
    "nx = len(basemat)\n",
    "\n",
    "import itertools\n",
    "import random\n",
    "\n",
    "perm = list(range(nx))\n",
    "\n",
    "while True:\n",
    "  random.shuffle(perm)\n",
    "  vecs = list([basemat[i] for i in perm])\n",
    "  \n",
    "  m = matrix(vecs[nx-n:])\n",
    "  \n",
    "  vals = []\n",
    "  for i in range(nx-n+1):\n",
    "    m[0,:] = vector(vecs[i])\n",
    "    vals.append(m.determinant())\n",
    "  d = gcd(vals)\n",
    "  print(d)\n",
    "  if d == 1: break\n",
    "\n",
    "print(perm)"
   ]
  },
  {
   "cell_type": "code",
   "execution_count": 54,
   "metadata": {
    "ExecuteTime": {
     "end_time": "2018-08-15T20:42:58.443489Z",
     "start_time": "2018-08-15T20:42:58.395528Z"
    }
   },
   "outputs": [],
   "source": [
    "curd = 0\n",
    "curvec = vector(m[0,:] * 0)\n",
    "\n",
    "data = dict()\n",
    "data['base'] = perm[:nx-n+1]\n",
    "data['mat_id'] = perm[nx-n+1:]\n",
    "data['make_unimodular'] = []\n",
    "\n",
    "for i, dx in enumerate(vals):\n",
    "  nd, u, v = xgcd(curd, dx)\n",
    "  curvec = curvec * u + vector(vecs[i]) * v\n",
    "  curd = nd\n",
    "  data['make_unimodular'].append((int(u), int(v)))"
   ]
  },
  {
   "cell_type": "code",
   "execution_count": 55,
   "metadata": {
    "ExecuteTime": {
     "end_time": "2018-08-15T20:43:13.350645Z",
     "start_time": "2018-08-15T20:42:59.353062Z"
    }
   },
   "outputs": [
    {
     "name": "stdout",
     "output_type": "stream",
     "text": [
      "1\n"
     ]
    }
   ],
   "source": [
    "nmat = copy(m)\n",
    "nmat[0,:] = curvec\n",
    "print(nmat.determinant())\n",
    "imat = nmat.inverse()"
   ]
  },
  {
   "cell_type": "code",
   "execution_count": 56,
   "metadata": {
    "ExecuteTime": {
     "end_time": "2018-08-15T20:43:13.455398Z",
     "start_time": "2018-08-15T20:43:13.355211Z"
    }
   },
   "outputs": [],
   "source": [
    "data['imat'] = list([list(map(int, x)) for x in imat.rows()])"
   ]
  },
  {
   "cell_type": "code",
   "execution_count": 57,
   "metadata": {
    "ExecuteTime": {
     "end_time": "2018-08-15T20:43:13.821246Z",
     "start_time": "2018-08-15T20:43:13.458092Z"
    }
   },
   "outputs": [],
   "source": [
    "import json\n",
    "json.dump(data, open('./tsf.data', 'w'))"
   ]
  }
 ],
 "metadata": {
  "kernelspec": {
   "display_name": "SageMath2 8.2",
   "language": "python",
   "name": "sagemath2"
  },
  "language_info": {
   "codemirror_mode": {
    "name": "ipython",
    "version": 2
   },
   "file_extension": ".py",
   "mimetype": "text/x-python",
   "name": "python",
   "nbconvert_exporter": "python",
   "pygments_lexer": "ipython2",
   "version": "2.7.15"
  }
 },
 "nbformat": 4,
 "nbformat_minor": 2
}
