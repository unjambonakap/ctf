{
 "cells": [
  {
   "cell_type": "code",
   "execution_count": 8,
   "metadata": {
    "ExecuteTime": {
     "end_time": "2018-08-12T15:20:44.877771Z",
     "start_time": "2018-08-12T15:20:44.870604Z"
    }
   },
   "outputs": [],
   "source": [
    "n = 128\n",
    "nb = 16\n"
   ]
  },
  {
   "cell_type": "code",
   "execution_count": 263,
   "metadata": {
    "ExecuteTime": {
     "end_time": "2018-08-12T20:09:32.414595Z",
     "start_time": "2018-08-12T20:09:32.408702Z"
    }
   },
   "outputs": [],
   "source": [
    "k_word_id = n\n",
    "k_rcon_id = k_word_id + 4 * 8\n",
    "k_const_id = k_rcon_id+8\n",
    "nextp = 4*8+8+1\n"
   ]
  },
  {
   "cell_type": "code",
   "execution_count": 337,
   "metadata": {
    "ExecuteTime": {
     "end_time": "2018-08-12T20:27:36.251280Z",
     "start_time": "2018-08-12T20:27:36.239427Z"
    }
   },
   "outputs": [],
   "source": [
    "sbox = (\n",
    "    'c61963bc974832ed64bbc11e35ea904f99463ce3c8176db23be49e416ab5cf10'\n",
    "    '78a7dd0229f68c53da057fa08b542ef127f8825d76a9d30c855a20ffd40b71ae'\n",
    "    'a17e04dbf02f558a03dca679528df728fe215b84af700ad55c83f9260dd2a877'\n",
    "    '1fc0ba654e91eb34bd6218c7ec334996409fe53a11ceb46be23d4798b36c16c9'\n",
    "    '08d7ad725986fc23aa750fd0fb245e815788f22d06d9a37cf52a508fa47b01de'\n",
    "    'b66913cce738429d14cbb16e459ae03fe9364c93b8671dc24b94ee311ac5bf60'\n",
    "    '6fb0ca153ee19b44cd1268b79c4339e630ef954a61bec41b924d37e8c31c66b9'\n",
    "    'd10e74ab805f25fa73acd60922fd87588e512bf4df007aa52cf389567da2d807'\n",
    ").decode('hex')\n",
    "sbox = bytearray(sbox)\n",
    "\n",
    "\n",
    "def sbox_tsf(s):\n",
    "  res = s * 0\n",
    "  for i in range(8):\n",
    "    for j in range(8):\n",
    "      if (sbox[1 << i]^^sbox[0]) >> j & 1:\n",
    "        res[j, :] += s[i, :]\n",
    "    res[i, -1] += sbox[0] >> i & 1\n",
    "  return res"
   ]
  },
  {
   "cell_type": "code",
   "execution_count": 338,
   "metadata": {
    "ExecuteTime": {
     "end_time": "2018-08-12T20:27:37.981139Z",
     "start_time": "2018-08-12T20:27:37.960286Z"
    }
   },
   "outputs": [],
   "source": [
    "\n",
    "def mul(a, b):\n",
    "  p = 0\n",
    "  while b:\n",
    "    if b & 1:\n",
    "      p ^^= a\n",
    "    a <<= 1\n",
    "    if a & 0x100:\n",
    "      a ^^= 0x1b\n",
    "    b >>= 1\n",
    "  return p & 0xff\n",
    "\n",
    "\n",
    "def mul_mat(x):\n",
    "  res = matrix(GF(2), 8, 8)\n",
    "  for i in range(8):\n",
    "    y = mul(1<<i, x)\n",
    "    for j in range(8):\n",
    "      res[j,i] = y>>j&1\n",
    "  return res"
   ]
  },
  {
   "cell_type": "code",
   "execution_count": 387,
   "metadata": {
    "ExecuteTime": {
     "end_time": "2018-08-12T20:40:17.197111Z",
     "start_time": "2018-08-12T20:40:17.159431Z"
    }
   },
   "outputs": [],
   "source": [
    "def sub_round(dx):\n",
    "  m, k = dx\n",
    "  nm = m * 0\n",
    "  for blk in range(n // 8):\n",
    "    nm[blk*8:blk*8+8,:] = sbox_tsf(m[blk*8:blk*8+8,:])\n",
    "  return nm, k\n",
    "\n",
    "\n",
    "def shift_round(dx):\n",
    "  m, k = dx\n",
    "  nm = copy(m)\n",
    "  for i in range(1, 4):\n",
    "    for j in range(4):\n",
    "      blk = i + 4 * j\n",
    "      oblk = (i + (4 * j + 4 * i)) % 16\n",
    "      for kk in range(8):\n",
    "        nm[blk * 8 + kk, :] = m[oblk * 8 + kk, :]\n",
    "  return nm, k\n",
    "\n",
    "def mix_round(dx):\n",
    "  m, k = dx\n",
    "  nm = m * 0\n",
    "  \n",
    "  m2 = mul_mat(2)\n",
    "  m3 = mul_mat(3)\n",
    "  \n",
    "  for col in range(0, 16, 4):\n",
    "    for kk in range(4):\n",
    "      bx = [(3,2), (0,3), (1,0), (2,1)]\n",
    "      ba = (0,1,2,3)\n",
    "      bb = (1,2,3,0)\n",
    "      for i in range(8):\n",
    "        nm[(col+kk)*8+i,:] +=  m[(col+bx[kk][0])*8+i,:] + m[(col+bx[kk][1])*8+i,:] \n",
    "        for j in range(8):\n",
    "          if m2[i,j]: nm[(col+kk)*8+i,:] += m[(col+ba[kk])*8+j,:]\n",
    "          if m3[i,j]: nm[(col+kk)*8+i,:] += m[(col+bb[kk])*8+j,:]\n",
    "          \n",
    "  return nm, k"
   ]
  },
  {
   "cell_type": "code",
   "execution_count": 437,
   "metadata": {
    "ExecuteTime": {
     "end_time": "2018-08-12T21:26:20.067081Z",
     "start_time": "2018-08-12T21:26:20.028491Z"
    }
   },
   "outputs": [],
   "source": [
    "def add_round(dx):\n",
    "  m, k = dx\n",
    "  nm = m\n",
    "  print(m, nm, k)\n",
    "  for i in range(n):\n",
    "    nm[i, n:] += k[i, :]\n",
    "  return nm, k\n",
    "\n",
    "\n",
    "def expand_round(dx):\n",
    "  m, k = dx\n",
    "  nk = k * 0\n",
    "  nk[-1,-1] = 1\n",
    "  word = matrix(GF(2), 4 * 8, n + nextp)\n",
    "  wid = (1, 2, 3, 0)\n",
    "  for i in range(4):\n",
    "    for j in range(8):\n",
    "      pos = wid[i] * 8 + j\n",
    "      word[i * 8 + j, :] = k[k_word_id + pos, :]\n",
    "  for i in range(4):\n",
    "    word[i * 8:i * 8 + 8, :] = sbox_tsf(word[i * 8:i * 8 + 8, :])\n",
    "  for j in range(8):\n",
    "    word[0 * 8 + j, :] += k[k_rcon_id + j, :]\n",
    "  nk[k_rcon_id:k_rcon_id + 8, k_rcon_id:k_rcon_id +\n",
    "     8] = mul_mat(2) * k[k_rcon_id:k_rcon_id + 8, k_rcon_id:k_rcon_id + 8]\n",
    "\n",
    "  for i in range(4):\n",
    "    for j in range(4):\n",
    "      for kk in range(8):\n",
    "        word[j * 8 + kk, :] += k[(i * 4 + j) * 8 + kk, :]\n",
    "        nk[(i * 4 + j) * 8 + kk, :] = word[j * 8 + kk, :]\n",
    "  for i in range(4):\n",
    "    for j in range(8):\n",
    "      nk[k_word_id + i * 8 + j, :] = word[i * 8 + j, :]\n",
    "  return m, nk"
   ]
  },
  {
   "cell_type": "code",
   "execution_count": 508,
   "metadata": {
    "ExecuteTime": {
     "end_time": "2018-08-12T22:23:31.534848Z",
     "start_time": "2018-08-12T22:23:31.441235Z"
    }
   },
   "outputs": [],
   "source": [
    "def add_and_expand(dx):\n",
    "  return expand_round(add_round(dx))\n",
    "\n",
    "nextp = 4*8+8+1\n",
    "def block_build():\n",
    "  f_n = 4*8+8+1+2*n\n",
    "  m0 = matrix(GF(2), n, 2*n+nextp)\n",
    "  for i in range(n): m0[i,i] = 1\n",
    "  k0 = matrix.identity(GF(2), n + nextp)\n",
    "    \n",
    "  \n",
    "  dx=  m0, k0\n",
    "  \n",
    "  if 0:\n",
    "    dx=  add_and_expand(dx)\n",
    "    dx=  sub_round(dx)\n",
    "    dx=  shift_round(dx)\n",
    "    dx=  mix_round(dx)\n",
    "    dx=  add_and_expand(dx)\n",
    "    \n",
    "    dx=  add_and_expand(dx)\n",
    "    dx=  sub_round(dx)\n",
    "    dx=  shift_round(dx)\n",
    "    dx=  mix_round(dx)\n",
    "    dx=  add_and_expand(dx)\n",
    "    \n",
    "    dx=  sub_round(dx)\n",
    "    dx=  shift_round(dx)\n",
    "    dx=  mix_round(dx)\n",
    "    dx=  add_and_expand(dx)\n",
    "    return dx\n",
    "  \n",
    "  dx=  add_and_expand(dx)\n",
    "  dx=  sub_round(dx)\n",
    "  dx=  shift_round(dx)\n",
    "  dx=  mix_round(dx)\n",
    "  \n",
    "  m0, k0 = dx\n",
    "  \n",
    "  M = matrix(GF(2), f_n)\n",
    "  M[:n,:] = m0\n",
    "  M[n:,n:] = k0\n",
    "  \n",
    "  dx=  add_and_expand(dx)\n",
    "  dx=  sub_round(dx)\n",
    "  dx=  shift_round(dx)\n",
    "  dx=  mix_round(dx)\n",
    "  \n",
    "  nr = 31337\n",
    "  M = M ** (nr-1)\n",
    "  m1 = M[:n,:]\n",
    "  k1= M[n:,n:]\n",
    "  dx1 = m1, k1\n",
    "  \n",
    " # for i in range(n):\n",
    " #   if k1[i] != dx[1][i]:\n",
    " #     print(k1[i])\n",
    " #     print(dx[1][i])\n",
    " #     print(k1[i] - dx[1][i])\n",
    " #   assert k1[i] == dx[1][i], i\n",
    " #   if m1[i] != dx[0][i]:\n",
    " #     print(m1[i])\n",
    " #     print(dx[0][i])\n",
    " #     print(m1[i] - dx[0][i])\n",
    " #   assert m1[i] == dx[0][i], i\n",
    "\n",
    "  dx = dx1\n",
    "  dx=  add_and_expand(dx)\n",
    "  dx=  sub_round(dx)\n",
    "  dx=  shift_round(dx)\n",
    "  dx=  add_and_expand(dx)\n",
    "  return dx\n",
    "\n",
    "def get_vecs():\n",
    "  m,k = block_build()\n",
    "  evalm  = matrix(GF(2), 2*n+nextp, 2*n+1)\n",
    "  for i in range(n):\n",
    "    evalm[i,i] = 1\n",
    "    evalm[i+n,i+n] = 1\n",
    "  for wid in range(4*8):\n",
    "    kid = wid + n + 12 * 8\n",
    "    evalm[2*n+wid, kid] = 1\n",
    "    \n",
    "  recon0 = 0x8d\n",
    "  for j in range(8):\n",
    "    evalm[2*n+4*8+j,-1] = recon0 >> j & 1\n",
    "  evalm[-1,-1] = 1\n",
    "  return m * evalm, m\n",
    "  "
   ]
  },
  {
   "cell_type": "code",
   "execution_count": 756,
   "metadata": {
    "ExecuteTime": {
     "end_time": "2018-08-13T10:21:10.800110Z",
     "start_time": "2018-08-13T10:21:08.824729Z"
    }
   },
   "outputs": [
    {
     "name": "stdout",
     "output_type": "stream",
     "text": [
      "(128 x 297 dense matrix over Finite Field of size 2, 128 x 297 dense matrix over Finite Field of size 2, 169 x 169 dense matrix over Finite Field of size 2)\n",
      "(128 x 297 dense matrix over Finite Field of size 2, 128 x 297 dense matrix over Finite Field of size 2, 169 x 169 dense matrix over Finite Field of size 2)\n",
      "(128 x 297 dense matrix over Finite Field of size 2, 128 x 297 dense matrix over Finite Field of size 2, 169 x 169 dense matrix over Finite Field of size 2)\n",
      "(128 x 297 dense matrix over Finite Field of size 2, 128 x 297 dense matrix over Finite Field of size 2, 169 x 169 dense matrix over Finite Field of size 2)\n"
     ]
    }
   ],
   "source": [
    "res, res0 = get_vecs()"
   ]
  },
  {
   "cell_type": "code",
   "execution_count": 792,
   "metadata": {
    "ExecuteTime": {
     "end_time": "2018-08-13T10:28:36.093632Z",
     "start_time": "2018-08-13T10:28:33.973318Z"
    }
   },
   "outputs": [
    {
     "name": "stdout",
     "output_type": "stream",
     "text": [
      "(128, 257)\n"
     ]
    }
   ],
   "source": [
    "cipher = bytearray(open('./flag.enc', 'rb').read())\n",
    "#cipher = bytearray(open('./flag2.enc', 'rb').read())\n",
    "rels = []\n",
    "print(res.dimensions())\n",
    "nblocks = len(cipher) // 16\n",
    "N = n + nblocks * 16 * 8\n",
    "a0 = vector(GF(2), N)\n",
    "for i in range(len(cipher)):\n",
    "  blk = i // 16\n",
    "  for j in range(8):\n",
    "    v = cipher[i] >> j & 1\n",
    "    a=  copy(a0)\n",
    "    iid = (i % 16)*8+j\n",
    "    \n",
    "    a[nblocks*n:] = vector(res[iid,n:2*n])\n",
    "    a[blk*n:blk*n+n] = vector(res[iid,:n])\n",
    "    \n",
    "    b = (v ^^ int(res[iid,-1]))\n",
    "    rels.append((a,b))\n",
    "  "
   ]
  },
  {
   "cell_type": "code",
   "execution_count": 793,
   "metadata": {
    "ExecuteTime": {
     "end_time": "2018-08-13T10:28:37.547796Z",
     "start_time": "2018-08-13T10:28:37.528985Z"
    }
   },
   "outputs": [],
   "source": [
    "known = []\n",
    "for i in range(7): known.append((i, 0))\n",
    "#for i, v in enumerate(bytearray('a'*7)):\n",
    "for i, v in enumerate(bytearray('34C3_')):\n",
    "  known.append((i+8, v))\n",
    "for i, v in known:\n",
    "  for j in range(8):\n",
    "    a = copy(a0)\n",
    "    vv = v >> j & 1\n",
    "    a[i*8+j] = 1\n",
    "    rels.append((a, vv))\n",
    "   "
   ]
  },
  {
   "cell_type": "code",
   "execution_count": 794,
   "metadata": {
    "ExecuteTime": {
     "end_time": "2018-08-13T10:28:40.447884Z",
     "start_time": "2018-08-13T10:28:40.436877Z"
    }
   },
   "outputs": [],
   "source": [
    " \n",
    "bitrel = []\n",
    "for i in range(8, len(cipher)-31):\n",
    "  bitrel.append((i*8+7, 0))\n",
    "#bitrel.append((7*8+6, 0))\n",
    "#bitrel.append((7*8+5, 1))\n",
    "\n",
    "for pos, v in bitrel:\n",
    "  a = copy(a0)\n",
    "  a[pos] = 1\n",
    "  rels.append((a, v))"
   ]
  },
  {
   "cell_type": "code",
   "execution_count": 795,
   "metadata": {
    "ExecuteTime": {
     "end_time": "2018-08-13T10:28:41.860113Z",
     "start_time": "2018-08-13T10:28:41.502837Z"
    }
   },
   "outputs": [],
   "source": [
    "mrels = matrix(GF(2), len(rels), len(a))\n",
    "bv = vector(GF(2), len(rels))\n",
    "for i, (a, b) in  enumerate(rels):\n",
    "  mrels[i,:] = a\n",
    "  bv[i] = b\n",
    "  \n",
    "  \n",
    "\n",
    "  "
   ]
  },
  {
   "cell_type": "code",
   "execution_count": 796,
   "metadata": {
    "ExecuteTime": {
     "end_time": "2018-08-13T10:28:42.748332Z",
     "start_time": "2018-08-13T10:28:42.587751Z"
    }
   },
   "outputs": [
    {
     "name": "stdout",
     "output_type": "stream",
     "text": [
      "(28, 768)\n"
     ]
    }
   ],
   "source": [
    "kern = mrels.right_kernel().matrix()\n",
    "print(kern.dimensions())"
   ]
  },
  {
   "cell_type": "code",
   "execution_count": 797,
   "metadata": {
    "ExecuteTime": {
     "end_time": "2018-08-13T10:28:45.461495Z",
     "start_time": "2018-08-13T10:28:45.247275Z"
    }
   },
   "outputs": [
    {
     "name": "stdout",
     "output_type": "stream",
     "text": [
      "(28, 640)\n"
     ]
    }
   ],
   "source": [
    "img = kern[:,:-n].image()\n",
    "bb=  img.basis_matrix()\n",
    "print(bb.dimensions())\n",
    "\n"
   ]
  },
  {
   "cell_type": "code",
   "execution_count": 798,
   "metadata": {
    "ExecuteTime": {
     "end_time": "2018-08-13T10:28:47.844396Z",
     "start_time": "2018-08-13T10:28:47.692706Z"
    }
   },
   "outputs": [
    {
     "name": "stdout",
     "output_type": "stream",
     "text": [
      "640\n",
      "[0, 0, 0, 0, 0, 0, 0, 54, 51, 52, 67, 51, 95, 68, 53, 36, 95, 119, 104, 111, 95, 107, 110, 53, 119, 95, 121, 48, 117, 108, 97, 99, 110, 116, 95, 119, 52, 110, 116, 89, 108, 49, 110, 51, 52, 65, 52, 39, 121, 95, 49, 110, 95, 65, 69, 85, 22, 190, 28, 244, 223, 19, 80, 178, 78, 159, 245, 224, 111, 166, 18, 32, 22, 225, 184, 160, 51, 216, 28, 250]\n"
     ]
    }
   ],
   "source": [
    "ans = mrels.solve_right(bv)[:-n]\n",
    "print(len(ans))\n",
    "txt = []\n",
    "for i in range(0, len(ans), 8):\n",
    "  txt.append(vec_to_n(ans[i:i+8]))\n",
    "print(txt)\n",
    "  \n",
    "with open('./sol.base', 'wb') as f:\n",
    "  f.write(bytearray(txt))\n",
    "with open('./sol.kern', 'wb') as f:\n",
    "  import struct\n",
    "  f.write(struct.pack('<II', *bb.dimensions()))\n",
    "  for i in range(bb.dimensions()[0]):\n",
    "    for j in range(bb.dimensions()[1]):\n",
    "      f.write(str(kern[i,j]))\n"
   ]
  },
  {
   "cell_type": "code",
   "execution_count": 753,
   "metadata": {
    "ExecuteTime": {
     "end_time": "2018-08-13T10:20:18.584376Z",
     "start_time": "2018-08-13T10:20:18.580133Z"
    }
   },
   "outputs": [
    {
     "name": "stdout",
     "output_type": "stream",
     "text": [
      "(24, 640)\n"
     ]
    }
   ],
   "source": [
    "print(bb.dimensions())"
   ]
  },
  {
   "cell_type": "code",
   "execution_count": 782,
   "metadata": {
    "ExecuteTime": {
     "end_time": "2018-08-13T10:23:34.153318Z",
     "start_time": "2018-08-13T10:23:34.147047Z"
    }
   },
   "outputs": [
    {
     "name": "stdout",
     "output_type": "stream",
     "text": [
      "array('B', [0, 0, 0, 0, 0, 0, 0, 48, 97, 97, 97, 97, 97, 97, 97, 97, 97, 97, 97, 97, 97, 97, 97, 97, 97, 97, 97, 97, 97, 97, 97, 97, 97, 97, 97, 97, 97, 97, 97, 97, 97, 97, 97, 97, 97, 97, 97, 97, 97, 97, 97, 97, 97, 97, 97, 97, 20, 202, 121, 0, 240, 145, 70, 161, 131, 145, 149, 169, 233, 178, 182, 163, 63, 158, 109, 207, 46, 250, 185, 52])\n",
      "(5, 5)\n"
     ]
    }
   ],
   "source": [
    "import array\n",
    "plain = array.array('B')\n",
    "plain.fromstring( open('./plain2.enc', 'rb').read())\n",
    "print(plain)\n",
    "print(nblocks, len(plain) // 16)"
   ]
  },
  {
   "cell_type": "code",
   "execution_count": 783,
   "metadata": {
    "ExecuteTime": {
     "end_time": "2018-08-13T10:23:36.153919Z",
     "start_time": "2018-08-13T10:23:36.134149Z"
    }
   },
   "outputs": [
    {
     "name": "stdout",
     "output_type": "stream",
     "text": [
      "128\n"
     ]
    }
   ],
   "source": [
    "kx = bytearray('a'*16)\n",
    "ansv = copy(a0)\n",
    "print(n)\n",
    "for i, b in enumerate(plain):\n",
    "  ansv[i*8:i*8+8] = to_vec(b, 8)\n",
    "kvec = copy(a0)\n",
    "for i, b in enumerate(kx):\n",
    "  kvec[nblocks*n+i*8: nblocks*n+i*8+8] = to_vec(b, 8)\n",
    "ansv += kvec\n",
    "  \n",
    "for a ,b in rels:\n",
    "  xa = a.dot_product(ansv)\n",
    "  if xa!=b:\n",
    "    print(xa, b, a)\n",
    "  assert xa == b"
   ]
  },
  {
   "cell_type": "code",
   "execution_count": 510,
   "metadata": {
    "ExecuteTime": {
     "end_time": "2018-08-12T22:23:50.889299Z",
     "start_time": "2018-08-12T22:23:50.856206Z"
    }
   },
   "outputs": [
    {
     "name": "stdout",
     "output_type": "stream",
     "text": [
      "[178, 31, 98, 27, 243, 175, 105, 189, 57, 189, 253, 212, 185, 232, 21, 186]\n",
      "[178, 31, 98, 27, 243, 175, 105, 189, 57, 189, 253, 212, 185, 232, 21, 186]\n"
     ]
    }
   ],
   "source": [
    "inx = [0] * 16\n",
    "keyx = [0] * 16\n",
    "evalv = vector(GF(2), 2*n+1)\n",
    "for i in range(n): evalv[i] = inx[i//8] >> i & 1\n",
    "for i in range(n): evalv[n+i] = keyx[i//8] >> i & 1\n",
    "evalv[-1] = 1\n",
    "\n",
    "evalv0 = vector(GF(2), 2*n+nextp)\n",
    "for i in range(n): evalv0[i] = inx[i//8] >> i & 1\n",
    "for i in range(n): evalv0[n+i] = keyx[i//8] >> i & 1\n",
    "for i in range(4*8): evalv0[n+n+i] = keyx[12+i//8] >> i & 1\n",
    "for i in range(8): evalv0[n+n+4*8+i] = 0x8d >> i & 1\n",
    "evalv0[-1] =1\n",
    "\n",
    "ans0 = res0 * evalv0\n",
    "tb0 = [0] * 16\n",
    "for i in range(n):\n",
    "  tb0[i//8] |= int(ans0[i]) << (i%8)\n",
    "  \n",
    "ans = res * evalv\n",
    "tb = [0] * 16\n",
    "for i in range(n):\n",
    "  tb[i//8] |= int(ans[i]) << (i%8)\n",
    "print(tb)\n",
    "print(tb0)\n",
    "  \n",
    "  "
   ]
  },
  {
   "cell_type": "code",
   "execution_count": 384,
   "metadata": {
    "ExecuteTime": {
     "end_time": "2018-08-12T20:39:59.277018Z",
     "start_time": "2018-08-12T20:39:58.940120Z"
    }
   },
   "outputs": [
    {
     "name": "stdout",
     "output_type": "stream",
     "text": [
      "([209, 93, 93, 191, 154, 155, 155, 121, 209, 93, 93, 191, 154, 155, 155, 121], [154, 155, 155, 121], 2)\n",
      "(210, 210)\n",
      "[1 1 1 0 1 0 1 0 0]\n",
      "[1 0 0 1 1 1 1 1 1]\n",
      "[1 1 0 0 1 1 1 1 1]\n",
      "[1 0 0 0 1 1 0 1 0]\n",
      "[1 0 1 0 1 1 0 0 0]\n",
      "[0 1 0 1 0 1 1 0 0]\n",
      "[1 0 1 0 1 0 1 1 1]\n",
      "[1 1 0 1 0 1 0 1 1]\n"
     ]
    }
   ],
   "source": [
    "tmp, kk = None, matrix.identity(GF(2), n+nextp)\n",
    "tmp, kk = expand_round((tmp, kk))\n",
    "tmp, kk = expand_round((tmp, kk))\n",
    "evalv = vector(GF(2), n+nextp)\n",
    "for i in range(n): evalv[i] = keyx[i//8] >> i & 1\n",
    "for i in range(4*8): evalv[n+i] = keyx[12+i//8] >> i & 1\n",
    "for i in range(8): evalv[n+4*8+i] = 0x8d >>i & 1\n",
    "evalv[-1] = 1\n",
    "\n",
    "ans = kk * evalv\n",
    "tb = [0] * 16\n",
    "word = [0] * 4\n",
    "for i in range(n):\n",
    "  tb[i//8] |= int(ans[i]) << (i%8)\n",
    "for i in range(4*8):\n",
    "  word[i//8] |= int(ans[n+i]) << (i%8)\n",
    "rcon = 0 \n",
    "for i in range(8):\n",
    "  rcon |= int(ans[n+4*8+i]) << (i%8)\n",
    "print(tb, word, rcon)\n",
    "\n",
    "  \n",
    "  \n",
    "def to_vec(v, nn):\n",
    "  res = vector(GF(2), nn)\n",
    "  for i in range(nn): res[i] = v >> i & 1\n",
    "  return res\n",
    "\n",
    "\n",
    "def vec_to_n(x):\n",
    "  res = 0\n",
    "  for i in range(len(x)):\n",
    "    res |= int(x[i]) << i\n",
    "  return res\n",
    "\n",
    "tm = matrix(GF(2), 8, 9)\n",
    "for i in range(8): tm[i,i] = 1\n",
    "tm = sbox_tsf(tm)\n",
    "aa= tm * to_vec(0x100 | 93, 9)\n",
    "print(sbox[93], vec_to_n(aa))\n",
    "print(tm)\n",
    "  \n"
   ]
  },
  {
   "cell_type": "code",
   "execution_count": 385,
   "metadata": {
    "ExecuteTime": {
     "end_time": "2018-08-12T20:39:59.288619Z",
     "start_time": "2018-08-12T20:39:59.282222Z"
    }
   },
   "outputs": [
    {
     "name": "stdout",
     "output_type": "stream",
     "text": [
      "[0 0 0 0 0 0 0 1]\n",
      "[1 0 0 0 0 0 0 1]\n",
      "[0 1 0 0 0 0 0 0]\n",
      "[0 0 1 0 0 0 0 1]\n",
      "[0 0 0 1 0 0 0 1]\n",
      "[0 0 0 0 1 0 0 0]\n",
      "[0 0 0 0 0 1 0 0]\n",
      "[0 0 0 0 0 0 1 0]\n"
     ]
    }
   ],
   "source": [
    "print(mul_mat(2))"
   ]
  },
  {
   "cell_type": "code",
   "execution_count": null,
   "metadata": {},
   "outputs": [],
   "source": []
  }
 ],
 "metadata": {
  "kernelspec": {
   "display_name": "SageMath2 8.2",
   "language": "python",
   "name": "sagemath2"
  },
  "language_info": {
   "codemirror_mode": {
    "name": "ipython",
    "version": 2
   },
   "file_extension": ".py",
   "mimetype": "text/x-python",
   "name": "python",
   "nbconvert_exporter": "python",
   "pygments_lexer": "ipython2",
   "version": "2.7.15"
  }
 },
 "nbformat": 4,
 "nbformat_minor": 2
}
