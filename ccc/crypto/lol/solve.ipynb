{
 "cells": [
  {
   "cell_type": "code",
   "execution_count": 2,
   "metadata": {
    "ExecuteTime": {
     "end_time": "2018-08-13T15:22:21.747970Z",
     "start_time": "2018-08-13T15:22:21.737116Z"
    }
   },
   "outputs": [],
   "source": [
    "import struct\n",
    "content = open('./mat.bin', 'rb').read()\n",
    "n, m = struct.unpack('<QQ', content[:16])"
   ]
  },
  {
   "cell_type": "code",
   "execution_count": 38,
   "metadata": {
    "ExecuteTime": {
     "end_time": "2018-08-13T15:51:47.749622Z",
     "start_time": "2018-08-13T15:51:47.733462Z"
    }
   },
   "outputs": [],
   "source": [
    "pos = 16\n",
    "dmat = matrix(m, n)\n",
    "for i in range(n):\n",
    "  data.append([])\n",
    "  for j in range(m):\n",
    "    dmat[j,i] = struct.unpack('<Q', content[pos:pos+8])[0]\n",
    "    pos += 8"
   ]
  },
  {
   "cell_type": "code",
   "execution_count": 39,
   "metadata": {
    "ExecuteTime": {
     "end_time": "2018-08-13T15:51:53.118730Z",
     "start_time": "2018-08-13T15:51:53.105614Z"
    }
   },
   "outputs": [],
   "source": [
    "cipher_data = open('./flag.txt.enc', 'rb').read()[8:]\n",
    "cipher_data = open('./abc.enc', 'rb').read()[8:]\n",
    "cipher = []\n",
    "for i in range(n):\n",
    "  cipher.append(struct.unpack('<Q', cipher_data[i*8:i*8+8])[0])\n",
    "cipher = vector(cipher)\n"
   ]
  },
  {
   "cell_type": "code",
   "execution_count": 40,
   "metadata": {
    "ExecuteTime": {
     "end_time": "2018-08-13T15:51:53.883046Z",
     "start_time": "2018-08-13T15:51:53.860231Z"
    }
   },
   "outputs": [
    {
     "name": "stdout",
     "output_type": "stream",
     "text": [
      "(805337473, 1106017, 81972421, 772348965, 564137105, 18446744071599868993, 1364198043, 147865623, 17055969, 391169, 70183, 873925633, 136845384, 613549065, 981622785, 1361199235, 355731489, 482347393, 153129501, 18446744071839432849, 559480917, 1093933317, 283131923, 272632449, 524813, 872441885, 37770241, 268451977, 286551061, 4736066, 67136914, 1075410243, 18446744072235835841, 1551893505, 1279363109, 1111779333, 18446744071842038817, 18446744072468042498, 17343491, 838918679, 18446744072658911425, 18446744072268808225, 18446744072380227649, 18446744072786839813, 307509265, 1115686689, 18446744071570607631, 19399873, 18446744071700501385, 4166, 151699469, 877928475, 18446744071632602715, 10620193, 1757675556, 4808769, 2457602, 18446744072862314389, 1657128461, 808460725, 18446744072474870279, 18446744072787216009, 2013535586, 18446744072105361577)\n"
     ]
    }
   ],
   "source": [
    "res = cipher * 0\n",
    "for i in range(m): res += vector(dmat[i,:]) * 97\n",
    "print((res-cipher) %(2**64) )"
   ]
  },
  {
   "cell_type": "code",
   "execution_count": 69,
   "metadata": {
    "ExecuteTime": {
     "end_time": "2018-08-13T16:20:07.380981Z",
     "start_time": "2018-08-13T16:20:07.366724Z"
    }
   },
   "outputs": [
    {
     "name": "stdout",
     "output_type": "stream",
     "text": [
      "[            0]\n",
      "[            0]\n",
      "[            0]\n",
      "[            0]\n",
      "[            0]\n",
      "[            0]\n",
      "[            0]\n",
      "[            0]\n",
      "[            0]\n",
      "[            0]\n",
      "[            0]\n",
      "[            0]\n",
      "[            0]\n",
      "[            0]\n",
      "[            0]\n",
      "[            0]\n",
      "[            0]\n",
      "[            0]\n",
      "[            0]\n",
      "[            0]\n",
      "[            0]\n",
      "[            0]\n",
      "[            0]\n",
      "[            0]\n",
      "[            0]\n",
      "[            0]\n",
      "[            0]\n",
      "[            0]\n",
      "[            0]\n",
      "[            0]\n",
      "[            0]\n",
      "[            0]\n",
      "[            0]\n",
      "[            0]\n",
      "[            0]\n",
      "[            0]\n",
      "[            0]\n",
      "[            0]\n",
      "[            0]\n",
      "[            0]\n",
      "[            0]\n",
      "[            0]\n",
      "[            0]\n",
      "[            0]\n",
      "[            0]\n",
      "[            0]\n",
      "[            0]\n",
      "[            0]\n",
      "[            0]\n",
      "[            0]\n",
      "[            0]\n",
      "[            0]\n",
      "[            0]\n",
      "[            0]\n",
      "[            0]\n",
      "[            0]\n",
      "[            0]\n",
      "[            0]\n",
      "[            0]\n",
      "[            0]\n",
      "[            0]\n",
      "[            0]\n",
      "[            0]\n",
      "[            0]\n",
      "[            0]\n",
      "[            0]\n",
      "[            0]\n",
      "[            0]\n",
      "[            0]\n",
      "[            0]\n",
      "[            0]\n",
      "[            0]\n",
      "[            0]\n",
      "[            0]\n",
      "[            0]\n",
      "[            0]\n",
      "[            0]\n",
      "[            0]\n",
      "[            0]\n",
      "[            0]\n",
      "[            0]\n",
      "[            0]\n",
      "[            0]\n",
      "[            0]\n",
      "[            0]\n",
      "[            0]\n",
      "[            0]\n",
      "[            0]\n",
      "[            0]\n",
      "[            0]\n",
      "[            0]\n",
      "[            0]\n",
      "[            0]\n",
      "[            0]\n",
      "[            0]\n",
      "[            0]\n",
      "[            0]\n",
      "[            0]\n",
      "[            0]\n",
      "[            0]\n",
      "[            0]\n",
      "[1099511627776]\n"
     ]
    }
   ],
   "source": [
    "M = matrix(m+n+1, n+m+n+1)\n",
    "\n",
    "p1 = n\n",
    "p2 = p1 + m\n",
    "p3 = p2 + n\n",
    "\n",
    "MX = 100\n",
    "EXPECT = 2**40\n",
    "\n",
    "M[:m,:n] = dmat\n",
    "for i in range(m):\n",
    "  M[i,p1+i] = EXPECT // 128\n",
    "\n",
    "ri = m\n",
    "for i in range(n):\n",
    "  M[ri+i, i] = 2**64\n",
    "  M[ri+i, p2+i] = EXPECT // m // 128\n",
    "ri += n\n",
    "  \n",
    "M[-1, :n] = cipher\n",
    "M[-1,-1] = EXPECT\n",
    "print(M[:,-1])"
   ]
  },
  {
   "cell_type": "code",
   "execution_count": 70,
   "metadata": {
    "ExecuteTime": {
     "end_time": "2018-08-13T16:20:16.158429Z",
     "start_time": "2018-08-13T16:20:08.354928Z"
    }
   },
   "outputs": [],
   "source": [
    "res = M.LLL()\n",
    "\n",
    "\n"
   ]
  },
  {
   "cell_type": "code",
   "execution_count": 72,
   "metadata": {
    "ExecuteTime": {
     "end_time": "2018-08-13T16:21:25.454576Z",
     "start_time": "2018-08-13T16:21:25.441137Z"
    }
   },
   "outputs": [
    {
     "name": "stdout",
     "output_type": "stream",
     "text": [
      "-97\n",
      "-97\n",
      "-97\n",
      "-97\n",
      "-97\n",
      "-97\n",
      "-97\n",
      "-97\n",
      "-97\n",
      "-97\n",
      "-97\n",
      "-97\n",
      "-97\n",
      "-97\n",
      "-97\n",
      "-97\n",
      "-97\n",
      "-97\n",
      "-97\n",
      "-97\n",
      "-97\n",
      "-97\n",
      "-97\n",
      "-97\n",
      "-97\n",
      "-97\n",
      "-97\n",
      "-97\n",
      "-97\n",
      "-97\n",
      "-97\n",
      "-97\n",
      "-97\n",
      "-97\n",
      "-97\n",
      "-97\n",
      "-97\n"
     ]
    }
   ],
   "source": [
    "for i in res.rows():\n",
    "  if not i.is_zero():\n",
    "    for j in range(m):\n",
    "      print(i[j+n] // M[j,j+n])\n",
    "    break"
   ]
  }
 ],
 "metadata": {
  "kernelspec": {
   "display_name": "SageMath2 8.2",
   "language": "python",
   "name": "sagemath2"
  },
  "language_info": {
   "codemirror_mode": {
    "name": "ipython",
    "version": 2
   },
   "file_extension": ".py",
   "mimetype": "text/x-python",
   "name": "python",
   "nbconvert_exporter": "python",
   "pygments_lexer": "ipython2",
   "version": "2.7.15"
  }
 },
 "nbformat": 4,
 "nbformat_minor": 2
}
