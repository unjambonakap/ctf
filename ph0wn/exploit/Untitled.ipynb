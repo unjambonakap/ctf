{
 "cells": [
  {
   "cell_type": "code",
   "execution_count": 2,
   "metadata": {
    "ExecuteTime": {
     "end_time": "2018-12-14T17:14:11.714768Z",
     "start_time": "2018-12-14T17:14:11.698686Z"
    }
   },
   "outputs": [
    {
     "data": {
      "text/plain": [
       "<chdrft.emu.binary.ArmMachine at 0x7fffca838ac8>"
      ]
     },
     "execution_count": 2,
     "metadata": {},
     "output_type": "execute_result"
    }
   ],
   "source": [
    "from chdrft.emu.binary import Arch, arm_arch\n",
    "\n",
    "arm_arch.mc."
   ]
  }
 ],
 "metadata": {
  "kernelspec": {
   "display_name": "env3",
   "language": "python",
   "name": "env3"
  },
  "language_info": {
   "codemirror_mode": {
    "name": "ipython",
    "version": 3
   },
   "file_extension": ".py",
   "mimetype": "text/x-python",
   "name": "python",
   "nbconvert_exporter": "python",
   "pygments_lexer": "ipython3",
   "version": "3.7.1"
  }
 },
 "nbformat": 4,
 "nbformat_minor": 2
}
