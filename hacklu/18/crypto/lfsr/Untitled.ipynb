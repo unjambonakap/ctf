{
 "cells": [
  {
   "cell_type": "code",
   "execution_count": 247,
   "metadata": {
    "ExecuteTime": {
     "end_time": "2018-10-17T16:19:51.095270Z",
     "start_time": "2018-10-17T16:19:51.079221Z"
    }
   },
   "outputs": [],
   "source": [
    "x = GF(2)['y'].gen()\n",
    "poly = x ^ 256 + x ^ 10 + x ^ 5 + x ^ 2 + 1\n",
    "poly.factor()\n",
    "state = 0x48400000000000014840000148400000000000000000000000000000000000010000000000000001000000010000000000000000000000000000000000000001\n",
    "EXPECTED = 0x48400000000000014840000148400000000000000000000000000000000000010000000000000001000000010000000000000000000000000000000000000001\n",
    "EXPECTED =0x5c96048400000000000000000000000000000000000000000000000000000001104010000000000000000000000000000000000000000000000000000000000148400000000000000000000000000000000000000000000000000000000000010000000000000000000000000000000000000000000000000000000000000001\n",
    "state_tb = []\n",
    "for i in range(512):\n",
    "  state_tb.append(state >> i & 1)\n",
    "\n",
    "n = 256\n",
    "mat = matrix(GF(2), n, n)\n",
    "px = []\n",
    "for i in range(n+1):\n",
    "  px.append(poly[i])\n"
   ]
  },
  {
   "cell_type": "code",
   "execution_count": 110,
   "metadata": {
    "ExecuteTime": {
     "end_time": "2018-10-17T12:52:57.351438Z",
     "start_time": "2018-10-17T12:52:57.340222Z"
    }
   },
   "outputs": [
    {
     "data": {
      "text/plain": [
       "<built-in function vector>"
      ]
     },
     "execution_count": 110,
     "metadata": {},
     "output_type": "execute_result"
    }
   ],
   "source": [
    "matrix(GF(2), [[1,1],[2,1]])\n",
    "vector"
   ]
  },
  {
   "cell_type": "code",
   "execution_count": 194,
   "metadata": {
    "ExecuteTime": {
     "end_time": "2018-10-17T15:40:07.080993Z",
     "start_time": "2018-10-17T15:40:04.735610Z"
    }
   },
   "outputs": [
    {
     "name": "stdout",
     "output_type": "stream",
     "text": [
      "(1, 1, 0, 0, 0, 0, 0, 0, 0, 0, 0, 0, 0, 0, 0, 0, 0, 0, 0, 0, 0, 0, 0, 0, 0, 0, 0, 0, 0, 0, 0, 0, 0, 0, 0, 0, 0, 0, 0, 0, 0, 0, 0, 0, 0, 0, 0, 0, 0, 0, 0, 0, 0, 0, 0, 0, 0, 0, 0, 0, 0, 0, 0, 0, 0, 0, 0, 0, 0, 0, 0, 0, 0, 0, 0, 0, 0, 0, 0, 0, 0, 0, 0, 0, 0, 0, 0, 0, 0, 0, 0, 0, 0, 0, 0, 0, 0, 0, 0, 0, 0, 0, 0, 0, 0, 0, 0, 0, 0, 0, 0, 0, 0, 0, 0, 0, 0, 0, 0, 0, 0, 0, 0, 0, 0, 0, 0, 0, 0, 0, 0, 0, 0, 0, 0, 0, 0, 0, 0, 0, 0, 0, 0, 0, 0, 0, 0, 0, 0, 0, 0, 0, 0, 0, 0, 0, 0, 0, 0, 0, 1, 1, 0, 0, 0, 0, 0, 0, 0, 0, 0, 0, 0, 0, 0, 0, 0, 0, 0, 0, 0, 0, 0, 0, 0, 0, 0, 0, 0, 0, 0, 0, 1, 1, 0, 0, 0, 0, 0, 0, 0, 0, 0, 0, 0, 0, 0, 0, 0, 0, 0, 0, 0, 0, 0, 0, 0, 0, 0, 0, 0, 0, 0, 0, 0, 0, 0, 0, 0, 0, 0, 0, 0, 0, 0, 0, 0, 0, 0, 0, 0, 0, 0, 0, 0, 0, 0, 1, 0, 0, 0, 0, 1, 0, 0, 1)\n"
     ]
    }
   ],
   "source": [
    "px = px[::-1]\n",
    "if 1:\n",
    "  for i in range(n):\n",
    "    mat[n - 1, i] = px[i]\n",
    "    if i != 0: mat[i - 1, i] = 1\n",
    "else:\n",
    "  for i in range(n):\n",
    "    mat[i, 0] = px[i]\n",
    "    if i != 0: mat[i - 1, i] = 1\n",
    "      \n",
    "\n",
    "      \n",
    "mconds = matrix(GF(2), n,n)\n",
    "for i in range(n):\n",
    "  ac = mat ** i\n",
    "  mconds[i,:] = vector(ac[:,0])\n",
    "  mconds[i,:] = vector(ac[0,:])\n",
    "  \n",
    "b = vector(GF(2), state_tb[0:n])\n",
    "ans = mconds.solve_right(b)\n",
    "print(ans)"
   ]
  },
  {
   "cell_type": "code",
   "execution_count": 192,
   "metadata": {
    "ExecuteTime": {
     "end_time": "2018-10-17T15:39:42.973780Z",
     "start_time": "2018-10-17T15:39:42.886430Z"
    }
   },
   "outputs": [
    {
     "name": "stdout",
     "output_type": "stream",
     "text": [
      "(1, 0, 1, 0, 0, 1, 0, 0, 0, 0, 1, 0, 0, 0, 0, 0, 0, 0, 0, 0, 0, 0, 0, 0, 0, 0, 0, 0, 0, 0, 0, 0, 0, 0, 0, 0, 0, 0, 0, 0, 0, 0, 0, 0, 0, 0, 0, 0, 0, 0, 0, 0, 0, 0, 0, 0, 0, 0, 0, 0, 0, 0, 0, 0, 0, 0, 0, 0, 0, 0, 0, 0, 0, 0, 0, 0, 0, 0, 0, 0, 0, 0, 0, 0, 0, 0, 0, 0, 0, 0, 0, 0, 0, 0, 0, 0, 0, 0, 0, 0, 0, 0, 0, 0, 0, 0, 0, 0, 0, 0, 0, 0, 0, 0, 0, 0, 0, 0, 0, 0, 0, 0, 0, 0, 0, 0, 0, 0, 0, 0, 0, 0, 0, 0, 0, 0, 0, 0, 0, 0, 0, 0, 0, 0, 0, 0, 0, 0, 0, 0, 0, 0, 0, 0, 0, 0, 0, 0, 0, 0, 0, 0, 0, 0, 0, 0, 0, 0, 0, 0, 0, 0, 0, 0, 0, 0, 0, 0, 0, 0, 0, 0, 0, 0, 0, 0, 0, 0, 0, 0, 0, 0, 0, 0, 0, 0, 0, 0, 0, 0, 0, 0, 0, 0, 0, 0, 0, 0, 0, 0, 0, 0, 0, 0, 0, 0, 0, 0, 0, 0, 0, 0, 0, 0, 0, 0, 0, 0, 0, 0, 0, 0, 0, 0, 0, 0, 0, 0, 0, 0, 0, 0, 0, 0, 0, 0, 0, 0, 0, 0, 0, 0, 0, 0, 0, 0)\n",
      "Vector space of degree 256 and dimension 0 over Finite Field of size 2\n",
      "Basis matrix:\n",
      "0 x 256 dense matrix over Finite Field of size 2\n"
     ]
    }
   ],
   "source": [
    "m2 = matrix(GF(2), n, n)\n",
    "for i in range(n):\n",
    "  for j in range(n):\n",
    "    m2[i, j] = state_tb[i+j]\n",
    "b2 = vector(GF(2), state_tb[n:])\n",
    "print(m2.solve_right(b2))\n",
    "print(m2.kernel())"
   ]
  },
  {
   "cell_type": "code",
   "execution_count": 87,
   "metadata": {
    "ExecuteTime": {
     "end_time": "2018-10-17T12:01:19.871675Z",
     "start_time": "2018-10-17T12:01:19.861503Z"
    }
   },
   "outputs": [
    {
     "data": {
      "text/plain": [
       "2"
      ]
     },
     "execution_count": 87,
     "metadata": {},
     "output_type": "execute_result"
    }
   ],
   "source": [
    "pr.<x0,x1,x2,x3,x4,x5> = BooleanPolynomialRing()\n",
    "xlist = [x0,x1,x2,x3,x4,x5, 1]"
   ]
  },
  {
   "cell_type": "code",
   "execution_count": 94,
   "metadata": {
    "ExecuteTime": {
     "end_time": "2018-10-17T12:06:55.505051Z",
     "start_time": "2018-10-17T12:06:55.482550Z"
    }
   },
   "outputs": [
    {
     "name": "stdout",
     "output_type": "stream",
     "text": [
      "(-1, 127)\n"
     ]
    }
   ],
   "source": [
    "f0=1+x0*x1*x2*x3*x4 + x0*x1*x2 + x0*x1*x3*x4*x5 + x0*x1*x4 + x0*x1*x5 + x0*x2*x3*x4*x5 + x0*x2*x3 + x0*x2*x4 + x0*x4*x5 + x0 + x1*x2*x3*x4*x5 + x1*x2*x4 + x1*x2*x5 + x1*x3*x4 + x1*x3*x5 + x1 + x2*x3*x4 + x2 + x3*x4*x5\n",
    "f = nf\n",
    "lst = []\n",
    "for i in range(1, 128):\n",
    "  g = 0\n",
    "  for j in range(7):\n",
    "    if i>>j&1: g += xlist[j]\n",
    "  lst.append(((g*f).degree(), i))\n",
    "print(min(lst))\n",
    "    "
   ]
  },
  {
   "cell_type": "code",
   "execution_count": 121,
   "metadata": {
    "ExecuteTime": {
     "end_time": "2018-10-17T14:36:38.510438Z",
     "start_time": "2018-10-17T14:36:38.504048Z"
    }
   },
   "outputs": [],
   "source": [
    "nf =   x0*x1*x2*x3*x4*x5 + x0*x1*x2*x3*x4 + x0*x1*x2*x3 + x0*x1*x2*x4 + x0*x1*x3*x4*x5 + x0*x1*x4*x5 + x0*x1*x4 + x0*x1*x5 + x0*x2*x3*x4 + x0*x2*x3*x5 + x0*x2*x3 + x0*x2*x4 + x0*x3*x4*x5 + x0*x3*x4 + x0*x3*x5 + x0*x3 + x0*x4 + x0*x5 + x0 + x1*x2*x3*x4*x5 + x1*x2*x3*x4 + x1*x2*x4 + x1*x2*x5 + x1*x3 + x1*x4*x5 + x1*x4 + x1*x5 + x1 + x2*x3*x4*x5 + x2*x3*x5 + x2*x3 + x2*x4*x5 + x2*x4 + x2*x5 + x2 + x3*x4*x5 + 1"
   ]
  },
  {
   "cell_type": "code",
   "execution_count": 119,
   "metadata": {
    "ExecuteTime": {
     "end_time": "2018-10-17T14:36:06.715225Z",
     "start_time": "2018-10-17T14:36:06.689297Z"
    }
   },
   "outputs": [],
   "source": [
    "from sage.crypto.boolean_function import BooleanFunction\n",
    "\n",
    "tb = [0, 1, 1, 0, 1, 0, 0, 0, 0, 1, 1, 0, 1, 1, 0, 1, 0, 1, 1, 1, 1, 1, 1, 1, 0, 1, 0, 0, 0, 1, 1, 1, 0, 1, 1, 1, 1, 0, 1, 0, 0, 1, 0, 0, 1, 1, 0, 0, 0, 0, 1, 1, 1, 0, 0, 0, 1, 1, 0, 1, 1, 0, 1, 1]\n",
    "tb = [0, 1, 1, 0, 1, 0, 0, 1, 0, 0, 0, 0, 0, 1, 0, 0, 0, 0, 0, 1, 0, 1, 1, 0, 0, 0, 1, 0, 1, 0, 0, 1, 0, 0, 0, 1, 0, 0, 1, 0, 0, 0, 1, 0, 0, 0, 0, 0, 0, 1, 0, 0, 0, 0, 0, 0, 1, 0, 0, 1, 0, 1, 1, 0]\n",
    "\n",
    "tb = [a^1 for a in tb]\n",
    "func = BooleanFunction(tb)\n",
    "\n"
   ]
  },
  {
   "cell_type": "code",
   "execution_count": 122,
   "metadata": {
    "ExecuteTime": {
     "end_time": "2018-10-17T14:36:41.948900Z",
     "start_time": "2018-10-17T14:36:41.928942Z"
    }
   },
   "outputs": [
    {
     "name": "stdout",
     "output_type": "stream",
     "text": [
      "(False, True)\n",
      "(True, False)\n",
      "(True, False)\n",
      "(False, True)\n",
      "(True, False)\n",
      "(False, True)\n",
      "(False, True)\n",
      "(True, False)\n",
      "(False, True)\n",
      "(False, True)\n",
      "(False, True)\n",
      "(False, True)\n",
      "(False, True)\n",
      "(True, False)\n",
      "(False, True)\n",
      "(False, True)\n",
      "(False, True)\n",
      "(False, True)\n",
      "(False, True)\n",
      "(True, False)\n",
      "(False, True)\n",
      "(True, False)\n",
      "(True, False)\n",
      "(False, True)\n",
      "(False, True)\n",
      "(False, True)\n",
      "(True, False)\n",
      "(False, True)\n",
      "(True, False)\n",
      "(False, True)\n",
      "(False, True)\n",
      "(True, False)\n",
      "(False, True)\n",
      "(False, True)\n",
      "(False, True)\n",
      "(True, False)\n",
      "(False, True)\n",
      "(False, True)\n",
      "(True, False)\n",
      "(False, True)\n",
      "(False, True)\n",
      "(False, True)\n",
      "(True, False)\n",
      "(False, True)\n",
      "(False, True)\n",
      "(False, True)\n",
      "(False, True)\n",
      "(False, True)\n",
      "(False, True)\n",
      "(True, False)\n",
      "(False, True)\n",
      "(False, True)\n",
      "(False, True)\n",
      "(False, True)\n",
      "(False, True)\n",
      "(False, True)\n",
      "(True, False)\n",
      "(False, True)\n",
      "(False, True)\n",
      "(True, False)\n",
      "(False, True)\n",
      "(True, False)\n",
      "(True, False)\n",
      "(False, True)\n"
     ]
    }
   ],
   "source": [
    "f2 = BooleanFunction(nf)\n",
    "for a, b in zip(func.truth_table(), f2.truth_table()):\n",
    "  print(a,b)"
   ]
  },
  {
   "cell_type": "code",
   "execution_count": 125,
   "metadata": {
    "ExecuteTime": {
     "end_time": "2018-10-17T14:36:55.233780Z",
     "start_time": "2018-10-17T14:36:55.204896Z"
    }
   },
   "outputs": [
    {
     "name": "stdout",
     "output_type": "stream",
     "text": [
      "x0*x1*x2*x3*x4*x5 + x0*x1*x2*x3*x4 + x0*x1*x2*x3 + x0*x1*x2*x4 + x0*x1*x3*x4*x5 + x0*x1*x4*x5 + x0*x1*x4 + x0*x1*x5 + x0*x2*x3*x4 + x0*x2*x3*x5 + x0*x2*x3 + x0*x2*x4 + x0*x3*x4*x5 + x0*x3*x4 + x0*x3*x5 + x0*x3 + x0*x4 + x0*x5 + x0 + x1*x2*x3*x4*x5 + x1*x2*x3*x4 + x1*x2*x4 + x1*x2*x5 + x1*x3 + x1*x4*x5 + x1*x4 + x1*x5 + x1 + x2*x3*x4*x5 + x2*x3*x5 + x2*x3 + x2*x4*x5 + x2*x4 + x2*x5 + x2 + x3*x4*x5\n",
      "{64: 1, 36: 12, 44: 4, 12: 33, 20: 5, 52: 1, 28: 8}\n",
      "13\n",
      "x0*x1*x2 + x0*x1*x3 + x0*x1*x4 + x0*x1*x5 + x0*x1 + x0*x2*x4 + x0*x2*x5 + x0*x2 + x0*x3*x4 + x0*x3*x5 + x0*x3 + x0*x4 + x0*x5 + x0 + x1*x2*x4 + x1*x2*x5 + x1*x3*x4 + x1*x3*x5\n",
      "(64, -12, -12, 36, -12, 44, 36, -12, -12, 36, 20, -12, 28, -12, -12, 20, -12, 28, 36, -12, 20, -12, -12, 36, 36, -12, -12, 44, -12, 28, 36, -12, -12, 28, 36, -12, 36, -12, -12, 44, 20, -12, -12, 36, -12, 28, 36, -12, 28, -12, -12, 12, -12, 28, 20, -12, -12, 44, 28, -12, 52, -12, -12, 36)\n"
     ]
    },
    {
     "data": {
      "text/plain": [
       "(False,\n",
       " True,\n",
       " True,\n",
       " False,\n",
       " True,\n",
       " False,\n",
       " False,\n",
       " True,\n",
       " False,\n",
       " False,\n",
       " False,\n",
       " False,\n",
       " False,\n",
       " True,\n",
       " False,\n",
       " False,\n",
       " False,\n",
       " False,\n",
       " False,\n",
       " True,\n",
       " False,\n",
       " True,\n",
       " True,\n",
       " False,\n",
       " False,\n",
       " False,\n",
       " True,\n",
       " False,\n",
       " True,\n",
       " False,\n",
       " False,\n",
       " True,\n",
       " False,\n",
       " False,\n",
       " False,\n",
       " True,\n",
       " False,\n",
       " False,\n",
       " True,\n",
       " False,\n",
       " False,\n",
       " False,\n",
       " True,\n",
       " False,\n",
       " False,\n",
       " False,\n",
       " False,\n",
       " False,\n",
       " False,\n",
       " True,\n",
       " False,\n",
       " False,\n",
       " False,\n",
       " False,\n",
       " False,\n",
       " False,\n",
       " True,\n",
       " False,\n",
       " False,\n",
       " True,\n",
       " False,\n",
       " True,\n",
       " True,\n",
       " False)"
      ]
     },
     "execution_count": 125,
     "metadata": {},
     "output_type": "execute_result"
    }
   ],
   "source": [
    "print(func.algebraic_normal_form())\n",
    "print(func.absolute_autocorrelation())\n",
    "print(func.nonlinearity())\n",
    "print(f2.annihilator(3))\n",
    "print(func.autocorrelation())\n",
    "func.truth_table()"
   ]
  },
  {
   "cell_type": "code",
   "execution_count": 108,
   "metadata": {
    "ExecuteTime": {
     "end_time": "2018-10-17T12:46:16.781525Z",
     "start_time": "2018-10-17T12:46:16.749780Z"
    }
   },
   "outputs": [
    {
     "ename": "ImportError",
     "evalue": "No module named mat",
     "output_type": "error",
     "traceback": [
      "\u001b[1;31m---------------------------------------------------------------------------\u001b[0m",
      "\u001b[1;31mImportError\u001b[0m                               Traceback (most recent call last)",
      "\u001b[1;32m<ipython-input-108-ec12953e5dcd>\u001b[0m in \u001b[0;36m<module>\u001b[1;34m()\u001b[0m\n\u001b[1;32m----> 1\u001b[1;33m \u001b[1;32mimport\u001b[0m \u001b[0mmat\u001b[0m\u001b[1;33m\u001b[0m\u001b[0m\n\u001b[0m",
      "\u001b[1;31mImportError\u001b[0m: No module named mat"
     ]
    }
   ],
   "source": [
    "import mat"
   ]
  },
  {
   "cell_type": "code",
   "execution_count": 255,
   "metadata": {
    "ExecuteTime": {
     "end_time": "2018-10-17T16:27:21.563335Z",
     "start_time": "2018-10-17T16:27:21.494484Z"
    }
   },
   "outputs": [],
   "source": [
    "class LFSR:\n",
    "  def __init__(self, coeffs, n=None, state=1, version=0):\n",
    "    poly = 0\n",
    "    if n is None: n = coeffs[-1]\n",
    "    for j in coeffs:\n",
    "      poly |= 1 << j\n",
    "    rpoly = 0\n",
    "    for j in coeffs:\n",
    "      rpoly |= 1 << (n-j)\n",
    "    self.coeffs = coeffs\n",
    "    self.poly = (poly, rpoly)[version%2]\n",
    "    self.n = n\n",
    "    self.state = state\n",
    "    self.mask = (1 << n) - 1\n",
    "    self.next = (self.next1, self.next2, self.next3, self.next4)[version // 2]\n",
    "\n",
    "  def next2(self):\n",
    "    b = self.state >> (self.n - 1)\n",
    "    self.state = self.state << 1\n",
    "    assert b == 0 or b == 1\n",
    "    if b:\n",
    "      self.state ^^= self.poly^^1 \n",
    "    return b\n",
    "\n",
    "  def next1(self):\n",
    "    b = self.state & 1\n",
    "    if b & 1:\n",
    "      self.state ^^= self.poly ^^ 1\n",
    "    self.state = self.state >> 1\n",
    "    return b\n",
    "  \n",
    "  def next3(self):\n",
    "    b = self.state & 1\n",
    "    tmp = self.state & self.poly\n",
    "    self.state = self.state >> 1\n",
    "    cnt = 0\n",
    "    for j in range(self.n):\n",
    "      cnt ^^= tmp >> j & 1\n",
    "    self.state |= cnt << self.n-1\n",
    "    self.state &= self.mask\n",
    "    return b\n",
    "  \n",
    "  def next4(self):\n",
    "    vx = 0\n",
    "    for i in (256, 96, 64):\n",
    "    #for i in (1, 161, 193):\n",
    "      vx ^^= self.state >> (256-i) & 1\n",
    "    self.state = self.state << 1\n",
    "    bx = self.state >> self.n & 1\n",
    "    if bx:\n",
    "      self.state ^^= self.poly\n",
    "    return vx\n",
    "    return bx\n",
    "    \n",
    "  \n",
    "  def get_seq(self, state, n):\n",
    "    self.state = state\n",
    "    res = 0\n",
    "    for i in range(n):\n",
    "      res |= self.next() << i\n",
    "    return res\n",
    "\n"
   ]
  },
  {
   "cell_type": "code",
   "execution_count": 256,
   "metadata": {
    "ExecuteTime": {
     "end_time": "2018-10-17T16:27:24.644865Z",
     "start_time": "2018-10-17T16:27:24.202162Z"
    }
   },
   "outputs": [
    {
     "name": "stdout",
     "output_type": "stream",
     "text": [
      "TRY\n",
      "G 3760d5719600acc4ed5ae2bd879c6026fc19938743ddfe291b7cb260f941c14685ace8dd0ca494ff98e7c9e51be17f92e903b07d40ed67c3ebd1b419337bf69a9521243a38f7a69178a646bd8db5382063ba8b23eb6b0f1e787183967e3095f6e111db761b47ab1917ed7dccd9265d23702d4c7c879aa9495189a6f882b7a775\n",
      "A 42d6746e86524a7fcc73e4f28df0bfc97481d83ea076b3e1f5e8da0c99bdfb4d4a90921d1c7bd348bc53235ec6da9c1031dd4591f5b5878f3c38c1cb3f184afb7088edbb0da3d58c8bf6bee66c932e91b816a63e43cd54a4a8c4d37c415bd3ba8000000000000000000000000000000000000000000000000000000000000000\n",
      "TRY\n",
      "G 1001000010000000000000000000000000000000000000000000000000000015c9604840000000000000000000000000000000000000000000000000000000110401000000000000000000000000000000000000000000000000000000000014840000000000000000000000000000000000000000000000000000000000001\n",
      "A ae4b0242000000000000000000000000000000000000000000000000000000008820080000000000000000000000000000000000000000000000000000000000a4200000000000000000000000000000000000000000000000000000000000008000000000000000000000000000000000000000000000000000000000000000\n",
      "TRY\n",
      "G 24b0a4200000000000000000000000000000000000000000000000000000000082008000000000000000000000000000000000000000000000000000000000024200000000000000000000000000000000000000000000000000000000000008000000000000000000000000000000000000000000000000000000000000000\n",
      "A 100100001000000000000000000000000000000000000000000000000000000049614840000000000000000000000000000000000000000000000000000000010401000000000000000000000000000000000000000000000000000000000004840000000000000000000000000000000000000000000000000000000000001\n",
      "TRY\n",
      "G f84476dd86d1eac645fb5f7336499748dc0b531f21e6aa52546269be20ade9dd401090359453d9e09c5983fce4fa1430b95de5b157bfad2f1c3ae3419d12c073f088edbb0da3d58c8bf6bee66c932e91b816a63e43cd54a4a8c4d37c415bd3ba8000000000000000000000000000000000000000000000000000000000000000\n",
      "A 401090359453d9e09c5983fce4fa1430b95de5b157bfad2f1c3ae3419d12c073f088edbb0da3d58c8bf6bee66c932e91b816a63e43cd54a4a8c4d37c415bd3ba8021206b28a7b3c138b307f9c9f4286172bbcb62af7f5a5e3875c6833a2580e7e111db761b47ab1917ed7dccd9265d23702d4c7c879aa9495189a6f882b7a775\n",
      "TRY\n",
      "G 5c96048400000000000000000000000000000000000000000000000000000001104010000000000000000000000000000000000000000000000000000000000148400000000000000000000000000000000000000000000000000000000000010000000000000000000000000000000000000000000000000000000000000001\n",
      "A ae4b0242000000000000000000000000000000000000000000000000000000008820080000000000000000000000000000000000000000000000000000000000a4200000000000000000000000000000000000000000000000000000000000008000000000000000000000000000000000000000000000000000000000000000\n",
      "TRY\n",
      "G 85ace8dd0ca494ff98e7c9e51be17f92e903b07d40ed67c3ebd1b419337bf69a9521243a38f7a69178a646bd8db5382063ba8b23eb6b0f1e787183967e3095f6e111db761b47ab1917ed7dccd9265d23702d4c7c879aa9495189a6f882b7a7750000000000000000000000000000000000000000000000000000000000000001\n",
      "A 42d6746e86524a7fcc73e4f28df0bfc97481d83ea076b3e1f5e8da0c99bdfb4d4a90921d1c7bd348bc53235ec6da9c1031dd4591f5b5878f3c38c1cb3f184afb7088edbb0da3d58c8bf6bee66c932e91b816a63e43cd54a4a8c4d37c415bd3ba8000000000000000000000000000000000000000000000000000000000000000\n",
      "TRY\n",
      "G 5c960484000000015c9604855c96048400000000000000000000000000000001104010000000000110401001104010000000000000000000000000000000000148400000000000014840000148400000000000000000000000000000000000010000000000000001000000010000000000000000000000000000000000000001\n",
      "A 200200002000002020020020000200002000000000000000000000000000002b92c090800000002b92c090ab92c09080000000000000000000000000000000220802000000000022080200220802000000000000000000000000000000000029080000000000002908000029080000000000000000000000000000000000002\n",
      "TRY\n",
      "G 2e903b07d40ed67c3ebd1b45b637fd39a9525051b5fe195e05de071abbaa72a7063ba8b23eb6b0f1e787083d77e3484f6f105df625a02ff1d17a92c9898770c33702d4c7c879aa94955adab9d9265d23702d4c7c879aa9495189a6f882b7a7750000000000000001000000010000000000000000000000000000000000000001\n",
      "A df833270e87bbfc5236f964c1d283808d0b59d3b81b690bdd33cfb1ea15e2df05d20760fa81dacf87d7a368b6c6ffa7352a4a0a36bfc32bc0bbc0e357754e54e0c7751647d6d61e3cf0e107aefc6909ede20bbec4b405fe3a2f52593130ee1866e05a98f90f355292ab5b573b24cba46e05a98f90f355292a3134df1056f4eea\n",
      "R 5c96048400000000000000000000000000000000000000000000000000000001104010000000000000000000000000000000000000000000000000000000000148400000000000000000000000000000000000000000000000000000000000010000000000000000000000000000000000000000000000000000000000000001\n",
      "done\n"
     ]
    }
   ],
   "source": [
    "coeffs = [0, 2, 5, 10, 256]\n",
    "nx = 1024\n",
    "for version in range(8):\n",
    "  a = LFSR(coeffs, 256, 1, version=version)\n",
    "  print('TRY')\n",
    "  print 'G',hex(a.get_seq(1, nx))\n",
    "  print 'A',hex(a.get_seq(1<<255, nx))\n",
    "print 'R', hex(EXPECTED)\n",
    "print 'done'"
   ]
  },
  {
   "cell_type": "code",
   "execution_count": 261,
   "metadata": {
    "ExecuteTime": {
     "end_time": "2018-10-17T16:33:22.679106Z",
     "start_time": "2018-10-17T16:33:22.535442Z"
    }
   },
   "outputs": [
    {
     "name": "stdout",
     "output_type": "stream",
     "text": [
      "0 1\n",
      "256 1\n",
      "502 1\n",
      "507 1\n",
      "510 1\n",
      "512 1\n",
      "748 1\n",
      "758 1\n",
      "764 1\n",
      "768 1\n",
      "994 1\n",
      "999 1\n",
      "1002 1\n",
      "1009 1\n",
      "1010 1\n",
      "1012 1\n",
      "1015 1\n",
      "1018 1\n",
      "1019 1\n",
      "1020 1\n",
      "1022 1\n"
     ]
    }
   ],
   "source": [
    "\n",
    "a = LFSR(coeffs, 256, 1, version=2*2)\n",
    "for i in range(1024):\n",
    "  v = a.next()\n",
    "  assert v == (EXPECTED >> i & 1)\n",
    "  if v: print i, v\n"
   ]
  },
  {
   "cell_type": "code",
   "execution_count": 207,
   "metadata": {
    "ExecuteTime": {
     "end_time": "2018-10-17T15:54:17.811394Z",
     "start_time": "2018-10-17T15:54:17.803187Z"
    }
   },
   "outputs": [
    {
     "name": "stdout",
     "output_type": "stream",
     "text": [
      "0\n",
      "160\n",
      "192\n",
      "256\n",
      "406\n",
      "411\n",
      "414\n",
      "416\n",
      "438\n",
      "443\n",
      "446\n",
      "448\n",
      "502\n",
      "507\n",
      "510\n"
     ]
    }
   ],
   "source": [
    "for i in range(512):\n",
    "  if (EXPECTED >> i & 1): print(i)"
   ]
  }
 ],
 "metadata": {
  "kernelspec": {
   "display_name": "SageMath2 8.2",
   "language": "python",
   "name": "sagemath2"
  },
  "language_info": {
   "codemirror_mode": {
    "name": "ipython",
    "version": 2
   },
   "file_extension": ".py",
   "mimetype": "text/x-python",
   "name": "python",
   "nbconvert_exporter": "python",
   "pygments_lexer": "ipython2",
   "version": "2.7.15"
  }
 },
 "nbformat": 4,
 "nbformat_minor": 2
}
