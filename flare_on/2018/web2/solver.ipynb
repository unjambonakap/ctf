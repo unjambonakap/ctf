{
 "cells": [
  {
   "cell_type": "code",
   "execution_count": 1,
   "metadata": {
    "ExecuteTime": {
     "end_time": "2018-08-29T12:57:50.232902Z",
     "start_time": "2018-08-29T12:57:48.013971Z"
    }
   },
   "outputs": [
    {
     "name": "stderr",
     "output_type": "stream",
     "text": [
      "WARNING | 2018-08-29 14:57:50,189 | \u001b[34mangr.analyses.disassembly_utils\u001b[0m | \u001b[34mYour version of capstone does not support MIPS instruction groups.\u001b[0m\n"
     ]
    }
   ],
   "source": [
    "import sys\n",
    "import angr\n",
    "import logging\n",
    "logging.getLogger('angr').setLevel('WARNING')"
   ]
  },
  {
   "cell_type": "code",
   "execution_count": 25,
   "metadata": {
    "ExecuteTime": {
     "end_time": "2018-08-28T14:34:47.183857Z",
     "start_time": "2018-08-28T14:34:47.143218Z"
    }
   },
   "outputs": [
    {
     "name": "stderr",
     "output_type": "stream",
     "text": [
      "WARNING | 2018-08-28 16:34:47,155 | \u001b[37mcle.elf\u001b[0m | \u001b[37mno segments identified in PT_LOAD\u001b[0m\n",
      "WARNING | 2018-08-28 16:34:47,175 | \u001b[33mcle.loader\u001b[0m | \u001b[33mThe main binary is a position-independent executable. It is being loaded with a base address of 0x400000.\u001b[0m\n"
     ]
    }
   ],
   "source": []
  },
  {
   "cell_type": "code",
   "execution_count": 2,
   "metadata": {
    "ExecuteTime": {
     "end_time": "2018-08-29T12:57:53.008127Z",
     "start_time": "2018-08-29T12:57:51.348060Z"
    }
   },
   "outputs": [
    {
     "name": "stdout",
     "output_type": "stream",
     "text": [
      "134516880\n"
     ]
    }
   ],
   "source": [
    "#proj = angr.Project('./a.out')\n",
    "proj = angr.Project('./algo.opt.out')\n",
    "test_func = proj.loader.find_symbol('test')\n",
    "print(proj.entry)"
   ]
  },
  {
   "cell_type": "code",
   "execution_count": 3,
   "metadata": {
    "ExecuteTime": {
     "end_time": "2018-08-29T12:57:59.738337Z",
     "start_time": "2018-08-29T12:57:59.724463Z"
    }
   },
   "outputs": [],
   "source": [
    "def solve(n):\n",
    "  s = proj.factory.blank_state(addr=test_func.rebased_addr)\n",
    "  q = s.memory.load(0x1000, n+1)\n",
    "  for i in range(8):\n",
    "    s.se.add(q[i] == 0)\n",
    "  print(q)\n",
    "\n",
    "  # call the authenticate function with *username being 0x1000 and *password being 0x2000\n",
    "  #c = proj.surveyors.Caller(test_func.rebased_addr, (0x1000,0x2000), start=s)\n",
    "  print(hex(test_func.rebased_addr))\n",
    "  c = proj.surveyors.Caller(test_func.rebased_addr, (0x1000, n), start=s)\n",
    "\n",
    "  res  = tuple(c.map_se('eval_upto', q, 2, solution=1, cast_to=str))\n",
    "  print(res)\n"
   ]
  },
  {
   "cell_type": "code",
   "execution_count": null,
   "metadata": {
    "ExecuteTime": {
     "start_time": "2018-08-29T13:00:59.291Z"
    }
   },
   "outputs": [
    {
     "name": "stdout",
     "output_type": "stream",
     "text": [
      "<BV272 Reverse(mem_1000_46_272)>\n",
      "0x8049260\n"
     ]
    }
   ],
   "source": [
    "solve(33)"
   ]
  },
  {
   "cell_type": "code",
   "execution_count": 123,
   "metadata": {
    "ExecuteTime": {
     "end_time": "2018-08-28T15:44:34.564735Z",
     "start_time": "2018-08-28T15:44:34.555208Z"
    }
   },
   "outputs": [
    {
     "data": {
      "text/plain": [
       "<angr.state_plugins.solver.SimSolver at 0x7f4f93ab8c50>"
      ]
     },
     "execution_count": 123,
     "metadata": {},
     "output_type": "execute_result"
    }
   ],
   "source": []
  }
 ],
 "metadata": {
  "kernelspec": {
   "display_name": "env2",
   "language": "python",
   "name": "env2"
  },
  "language_info": {
   "codemirror_mode": {
    "name": "ipython",
    "version": 2
   },
   "file_extension": ".py",
   "mimetype": "text/x-python",
   "name": "python",
   "nbconvert_exporter": "python",
   "pygments_lexer": "ipython2",
   "version": "2.7.15"
  }
 },
 "nbformat": 4,
 "nbformat_minor": 2
}
