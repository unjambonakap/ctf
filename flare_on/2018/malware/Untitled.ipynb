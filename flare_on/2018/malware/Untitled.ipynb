{
 "cells": [
  {
   "cell_type": "code",
   "execution_count": 1,
   "metadata": {
    "ExecuteTime": {
     "end_time": "2018-09-11T22:53:19.804472Z",
     "start_time": "2018-09-11T22:53:19.039716Z"
    }
   },
   "outputs": [],
   "source": [
    "import scapy.all as scapy"
   ]
  },
  {
   "cell_type": "code",
   "execution_count": 12,
   "metadata": {
    "ExecuteTime": {
     "end_time": "2018-09-11T23:14:40.875431Z",
     "start_time": "2018-09-11T23:14:37.867757Z"
    }
   },
   "outputs": [],
   "source": [
    "dx = scapy.rdpcap('./pcap.pcap')"
   ]
  },
  {
   "cell_type": "code",
   "execution_count": 44,
   "metadata": {
    "ExecuteTime": {
     "end_time": "2018-09-12T00:16:52.874160Z",
     "start_time": "2018-09-12T00:16:52.717504Z"
    }
   },
   "outputs": [
    {
     "name": "stdout",
     "output_type": "stream",
     "text": [
      "48 1533914614.586462 b'\\xe7f\\xe6Z' 216\n",
      "48 1533914614.592582 b'_\\xa5)@' 184\n",
      "107 1533914616.599037 b'k\\x00\\x00\\x8f' 275\n",
      "81 1533914616.600466 b'Q\\x00\\x00\\x8f' 217\n",
      "84 1533914618.600312 b'T\\x00\\x00\\x8f' 252\n",
      "206 1533914618.600784 b'\\xce\\x00\\x00\\x8f' 342\n",
      "84 1533914623.612401 b'T\\x00\\x00\\x8f' 252\n",
      "203 1533914623.617886 b'\\xcb\\x00\\x00\\x8f' 339\n",
      "84 1533914627.613389 b'T\\x00\\x00\\x8f' 252\n",
      "86 1533914627.634219 b'V\\x00\\x00\\x8f' 222\n",
      "191 1533914627.735362 b'\\xbf\\x00\\x00\\x8f' 327\n",
      "93 1533914634.621904 b']\\x00\\x00\\x8f' 261\n",
      "84 1533914634.624136 b'T\\x00\\x00\\x8f' 220\n",
      "97 1533914634.723806 b'a\\x00\\x00\\x8f' 233\n",
      "90 1533914637.623945 b'Z\\x00\\x00\\x8f' 258\n",
      "84 1533914637.626659 b'T\\x00\\x00\\x8f' 220\n",
      "381 1533914637.672814 b'}\\x01\\x00\\x8f' 517\n",
      "97 1533914641.629495 b'a\\x00\\x00\\x8f' 265\n",
      "84 1533914641.631835 b'T\\x00\\x00\\x8f' 220\n",
      "101 1533914641.712784 b'e\\x00\\x00\\x8f' 237\n",
      "90 1533914645.635067 b'Z\\x00\\x00\\x8f' 258\n",
      "84 1533914645.643271 b'T\\x00\\x00\\x8f' 220\n",
      "325 1533914645.659874 b'E\\x01\\x00\\x8f' 461\n",
      "120 1533914649.637483 b'x\\x00\\x00\\x8f' 288\n",
      "84 1533914649.639745 b'T\\x00\\x00\\x8f' 220\n",
      "124 1533914649.699733 b'|\\x00\\x00\\x8f' 260\n",
      "90 1533914653.63905 b'Z\\x00\\x00\\x8f' 258\n",
      "84 1533914653.641354 b'T\\x00\\x00\\x8f' 220\n",
      "344 1533914653.740347 b'X\\x01\\x00\\x8f' 480\n",
      "164 1533914658.65265 b'\\xa4\\x00\\x00\\x8f' 332\n",
      "84 1533914658.65521 b'T\\x00\\x00\\x8f' 220\n",
      "1344 1533914658.675861 b'\\xb9\\x16\\x00\\x8f' 1512\n",
      "1460 1533914658.675878 b'\\xef\\x04\\xb4\\xf7' 1512\n",
      "1460 1533914658.675883 b'\\xb6\\xd7\\x10$' 1512\n",
      "1460 1533914658.675888 b's\\xf1\\xc94' 1512\n",
      "93 1533914658.675894 b't\\x82U\\x0b' 145\n",
      "87 1533914658.67876 b'W\\x00\\x00\\x8f' 223\n",
      "88 1533914658.684146 b'X\\x00\\x00\\x8f' 256\n",
      "84 1533914658.686044 b'T\\x00\\x00\\x8f' 220\n",
      "90 1533914662.692337 b'Z\\x00\\x00\\x8f' 258\n",
      "84 1533914662.69299 b'T\\x00\\x00\\x8f' 220\n",
      "356 1533914662.695006 b'd\\x01\\x00\\x8f' 492\n",
      "109 1533914672.704957 b'm\\x00\\x00\\x8f' 277\n",
      "84 1533914672.721404 b'T\\x00\\x00\\x8f' 220\n",
      "109 1533914672.741038 b'm\\x00\\x00\\x8f' 245\n",
      "147 1533914676.344918 b'\\x93\\x00\\x00\\x8f' 283\n",
      "90 1533914686.709916 b'Z\\x00\\x00\\x8f' 258\n",
      "84 1533914686.712316 b'T\\x00\\x00\\x8f' 220\n",
      "359 1533914686.719151 b'g\\x01\\x00\\x8f' 495\n",
      "101 1533914712.813279 b'e\\x00\\x00\\x8f' 269\n",
      "84 1533914712.815757 b'T\\x00\\x00\\x8f' 220\n",
      "133 1533914712.817708 b'\\x85\\x00\\x00\\x8f' 269\n",
      "101 1533914722.820039 b'e\\x00\\x00\\x8f' 269\n",
      "84 1533914722.822806 b'T\\x00\\x00\\x8f' 220\n",
      "133 1533914722.879408 b'\\x85\\x00\\x00\\x8f' 269\n",
      "101 1533914732.827477 b'e\\x00\\x00\\x8f' 269\n",
      "84 1533914732.829897 b'T\\x00\\x00\\x8f' 220\n",
      "133 1533914732.87891 b'\\x85\\x00\\x00\\x8f' 269\n",
      "128 1533914735.830612 b'\\x80\\x00\\x00\\x8f' 296\n",
      "84 1533914736.177636 b'T\\x00\\x00\\x8f' 220\n",
      "177 1533914740.838046 b'\\xb1\\x00\\x00\\x8f' 345\n",
      "84 1533914740.847269 b'T\\x00\\x00\\x8f' 220\n",
      "84 1533914760.845906 b'T\\x00\\x00\\x8f' 252\n",
      "84 1533914760.848336 b'T\\x00\\x00\\x8f' 220\n",
      "103 1533914765.852352 b'g\\x00\\x00\\x8f' 271\n",
      "84 1533914765.854598 b'T\\x00\\x00\\x8f' 220\n",
      "135 1533914765.858657 b'\\x87\\x00\\x00\\x8f' 271\n",
      "102 1533914770.858592 b'f\\x00\\x00\\x8f' 270\n",
      "84 1533914770.860767 b'T\\x00\\x00\\x8f' 220\n",
      "134 1533914770.880943 b'\\x86\\x00\\x00\\x8f' 270\n",
      "90 1533914777.867073 b'Z\\x00\\x00\\x8f' 258\n",
      "84 1533914777.869204 b'T\\x00\\x00\\x8f' 220\n",
      "283 1533914777.870539 b'\\x1b\\x01\\x00\\x8f' 419\n",
      "84 1533914782.873478 b'T\\x00\\x00\\x8f' 252\n",
      "84 1533914782.909421 b'T\\x00\\x00\\x8f' 220\n",
      "84 1533914786.765009 b'T\\x00\\x00\\x8f' 252\n"
     ]
    }
   ],
   "source": [
    "v1 = '192.168.221.105'\n",
    "v2 = '192.168.221.91'\n",
    "\n",
    "import binascii\n",
    "start = binascii.unhexlify('e766e65ae8509d6833d73a37d1ec4ad8189919a5402f801531e936d132e5df42f22f99c8db9ffe673a0352c58d7999c4')\n",
    "started = False\n",
    "from collections import defaultdict\n",
    "data = dict(v2c= bytearray(), c2v=bytearray())\n",
    "\n",
    "cnta = 0\n",
    "for pkt in dx:\n",
    "  ip = pkt[scapy.IP]\n",
    "  between = set([ip.src, ip.dst])\n",
    "  if (v1 not in between) or (v2 not in between): continue\n",
    "  tcp = pkt[scapy.TCP]\n",
    "  payload = bytes(pkt.payload)\n",
    "  if not started:\n",
    "    if len(payload) < len(start): continue\n",
    "    if payload[-len(start):] != start: continue\n",
    "    started = True\n",
    "  \n",
    "  payload = b'\\x00'*0xc + payload\n",
    "  typ = 'v2c'\n",
    "  if v2 == ip.src:\n",
    "    s = payload[0xa8:]\n",
    "    \n",
    "    if len(tcp.payload) == 1460:\n",
    "      if cnta !=0 : s = bytes(tcp.payload)\n",
    "      cnta += 1\n",
    "    elif cnta!=0:\n",
    "      s = bytes(tcp.payload)\n",
    "      cnta = 0\n",
    "    if len(s)< 4: continue\n",
    "    typ = 'c2v'\n",
    "  else:\n",
    "    s = payload[0x88:]\n",
    "  if len(s) != 0x30  and (s[2:4] != b'\\x00\\x8f' and len(s) < 93): continue\n",
    "  print(len(s), pkt.time, s[:4], len(payload))\n",
    "  data[typ] += s\n",
    "    \n"
   ]
  },
  {
   "cell_type": "code",
   "execution_count": 45,
   "metadata": {
    "ExecuteTime": {
     "end_time": "2018-09-12T00:17:00.126135Z",
     "start_time": "2018-09-12T00:17:00.121558Z"
    }
   },
   "outputs": [],
   "source": [
    "import pickle\n",
    "pickle.dump(data, open('./conn2.transfer.pickle', 'wb'))"
   ]
  }
 ],
 "metadata": {
  "kernelspec": {
   "display_name": "Python 3",
   "language": "python",
   "name": "python3"
  },
  "language_info": {
   "codemirror_mode": {
    "name": "ipython",
    "version": 3
   },
   "file_extension": ".py",
   "mimetype": "text/x-python",
   "name": "python",
   "nbconvert_exporter": "python",
   "pygments_lexer": "ipython3",
   "version": "3.7.0"
  }
 },
 "nbformat": 4,
 "nbformat_minor": 2
}
